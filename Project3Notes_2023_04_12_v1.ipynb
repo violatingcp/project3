{
 "cells": [
  {
   "cell_type": "markdown",
   "id": "qWAmspvYNNrF",
   "metadata": {
    "id": "qWAmspvYNNrF"
   },
   "source": [
    "We start with the prerequisites for the lab. It's always good to put this in at the beginning. "
   ]
  },
  {
   "cell_type": "code",
   "execution_count": null,
   "id": "9fc5f50c",
   "metadata": {
    "id": "9fc5f50c"
   },
   "outputs": [],
   "source": [
    "import numpy as np\n",
    "from numpy.random import rand\n",
    "import matplotlib.pyplot as plt\n",
    "from scipy.sparse import spdiags,linalg,eye\n",
    "from tqdm import tqdm\n",
    "import imageio\n",
    "import torch\n",
    "import torch.nn as nn\n",
    "import torch.nn.functional as F\n",
    "from torch.utils.data import Sampler, BatchSampler, Dataset, DataLoader, Subset, SubsetRandomSampler, random_split"
   ]
  },
  {
   "cell_type": "code",
   "execution_count": null,
   "id": "wXFVR2cpOPCt",
   "metadata": {
    "id": "wXFVR2cpOPCt"
   },
   "outputs": [],
   "source": [
    "%pip install torchmetrics\n",
    "from torchmetrics import Accuracy"
   ]
  },
  {
   "cell_type": "markdown",
   "id": "901a0423",
   "metadata": {
    "id": "901a0423"
   },
   "source": [
    "## Project Part 1 : Ising model"
   ]
  },
  {
   "cell_type": "markdown",
   "id": "1bba0684",
   "metadata": {
    "id": "1bba0684"
   },
   "source": [
    "No numerical physics class would be complete without doing the Ising model. Howevr, because we want to be starte of the art on this. We are going to do the Ising model in way that is a little bit different than what you have done in the past. We are going to do the Ising model with Deep learning. The first part of this project will largely follow work done in this nature paper\n",
    "\n",
    "https://arxiv.org/abs/1605.01735 \n",
    "\n",
    "This captures much of the core ideas that we want in building simulators, and, of course highlights the basic scheme that we get in an Ising model. \n",
    "\n",
    "Our first step is to setup the Ising model\n",
    "\n",
    "### Step 1.1: The lattice Ising Model \n",
    "\n",
    "\n",
    "The Ising model is a mathematical model used to describe the behavior of a collection of interacting magnetic moments, such as atoms in a solid or spins in a lattice. The model is named after Ernst Ising, a physicist who first proposed it in 1925.\n",
    "\n",
    "#### 1.1.1   Setting up Model\n",
    "\n",
    "In the Ising model, each magnetic moment is represented by a spin variable, which can take on the values of +1 or -1. The model assumes that these spins interact only with their nearest neighbors in a lattice, and that the interaction between them is influenced by an external magnetic field.\n",
    "\n",
    "The Hamiltonian of the Ising model describes the energy of the system, and is given by:\n",
    "\n",
    "$$\n",
    "H = -J \\sum_{i,j} s_{i} s_{j} - \\mu_{b} \\sum_{j} B_{j} s_{j}\n",
    "$$\n",
    "\n",
    "where J is the exchange interaction strength between neighboring spins, $\\mu$ is the magnetic moment of each spin, $B_{j}$ is the external magnetic field, and the first sum is taken over all pairs of nearest-neighbor spins in the lattice.\n",
    "\n",
    "The Ising model exhibits a phase transition, which is a sudden change in the behavior of the system as a parameter is varied. In the absence of an external magnetic field (B=0), the model exhibits a phase transition at a critical temperature known as the Curie temperature (Tc). Below the critical temperature, the system exhibits long-range order, with all spins aligning in the same direction, resulting in a net magnetization. Above the critical temperature, the system becomes disordered, with spins pointing in random directions, and the net magnetization vanishes.\n",
    "\n",
    "The critical behavior of the Ising model at the phase transition is described by universal scaling laws, which are independent of the microscopic details of the system. These scaling laws have been used to study a wide range of physical systems, including magnets, fluids, and even social networks.\n",
    "\n",
    "As a first step write (split the below code into multiple steps to build the concept and guide the the student)\n",
    "\n",
    "As an example of how we will setup the Ising model, see the initialize code. "
   ]
  },
  {
   "cell_type": "code",
   "execution_count": null,
   "id": "5ef24c1d",
   "metadata": {
    "id": "5ef24c1d"
   },
   "outputs": [],
   "source": [
    "np.random.seed(20)\n",
    "\n",
    "def initialize(N):   \n",
    "    state = 2*np.random.randint(2, size=(N,N))-1\n",
    "    return state\n",
    "\n",
    "N=4\n",
    "test=initialize(N)\n",
    "print(test)"
   ]
  },
  {
   "cell_type": "markdown",
   "id": "2f413bd5",
   "metadata": {
    "id": "2f413bd5"
   },
   "source": [
    "Ok, so now that we have done that let's define a Hamiltonian that will output the energy of the above grid. For this grid, we will use wrap-around (video-game) coordinates whereby the coordinate for $j+1 \\forall j \\geq N j+1\\rightarrow j \\mod N$ or in other words the in a 4x4 model the spin at x=0 y=2 can contribute to the x=3 y=2 neighbor spin the x-axis."
   ]
  },
  {
   "cell_type": "code",
   "execution_count": null,
   "id": "2fa7ba86",
   "metadata": {},
   "outputs": [],
   "source": [
    "#QUESTION\n",
    "def hamiltonian(iArr,N):\n",
    "    return energy\n",
    "\n",
    "hamiltonian(test,N)\n",
    "#print energy should be 4"
   ]
  },
  {
   "cell_type": "markdown",
   "id": "9a6c9939",
   "metadata": {},
   "source": [
    "The above energy with the random seed should give us a value of 4. \n",
    "\n",
    "Now we would like to come up with a strategy to evolve the spin configurations of the Ising model. To do this we are going to follow a Markov Chain Monte-Carlo Proposal strategy.  For this write a Metropolis algorithm that \n",
    "\n",
    " * Flips the spin of the i,j-th element of the grid\n",
    " * Computes $\\Delta H=E_{\\rm after}-E_{\\rm before}$ the change in energy for that element\n",
    " * Updates the spin flip with probability $p < e^{-\\frac{\\Delta H}{k_{b} T} }$ \n",
    "\n",
    "Note that we often define temperature in the Ising model using a variable $\\beta=\\frac{1}{k_{b}T}$. The update need not be temperature.  Additionally, to make our units extra simple we will set the Boltzman Constant $k_{b}=1$. "
   ]
  },
  {
   "cell_type": "code",
   "execution_count": null,
   "id": "b5d2cd7d",
   "metadata": {},
   "outputs": [],
   "source": [
    "def flip(i,j,iArr,Beta):\n",
    "    return\n",
    "\n",
    "print(\"Before Flip:\\n\",test)\n",
    "flip(2,1,test,1)\n",
    "print(\"After Flip:\\n\",test)\n",
    "#the 2,1 element should go from -1 to 1"
   ]
  },
  {
   "cell_type": "markdown",
   "id": "d137c6a3",
   "metadata": {},
   "source": [
    "Now define the magnetization of the system. This is just the sum over *all* the spins in the array: \n",
    "\n",
    "$$\n",
    "M=\\sum_{i\\in {\\rm Lattice}} \\sigma_{i}\n",
    "$$\n",
    "\n",
    "Write a function to do this:"
   ]
  },
  {
   "cell_type": "code",
   "execution_count": null,
   "id": "70fe32db",
   "metadata": {},
   "outputs": [],
   "source": [
    "def mag(iArr):\n",
    "    return \n",
    "print(\"magnetization:\",mag(test))#Should be zero if you flipped 2,1 correctly, otherwise from raw is -2"
   ]
  },
  {
   "cell_type": "markdown",
   "id": "1fc174eb",
   "metadata": {},
   "source": [
    "Write a function that tries to flip every element in the array in random order.  Use the functions above to help you. "
   ]
  },
  {
   "cell_type": "code",
   "execution_count": null,
   "id": "bdaee6fc",
   "metadata": {},
   "outputs": [],
   "source": [
    "def update_rand(iArr,N,TM1):\n",
    "    return "
   ]
  },
  {
   "cell_type": "markdown",
   "id": "467453cd",
   "metadata": {},
   "source": [
    "Finally, we can put it all together by adding a plotting function that can allow us to make a viedeo of the phase transition. "
   ]
  },
  {
   "cell_type": "code",
   "execution_count": null,
   "id": "5ebb68c1",
   "metadata": {
    "colab": {
     "base_uri": "https://localhost:8080/",
     "height": 843
    },
    "id": "5ebb68c1",
    "outputId": "21c3a317-2dbe-4c69-df80-f98a8554e802"
   },
   "outputs": [],
   "source": [
    "from IPython.display import Image\n",
    "\n",
    "def mapPlot(ax,fig, iArr, i, N, images):\n",
    "    plt.cla()\n",
    "    X, Y = np.meshgrid(range(N), range(N))\n",
    "    #plt.setp(sp.get_yticklabels(), visible=False)\n",
    "    #plt.setp(sp.get_xticklabels(), visible=False)      \n",
    "    ax.pcolormesh(X, Y, iArr, cmap=plt.cm.RdBu);\n",
    "    ax.text(0.6, 0.3,'Time=%d'%i,fontdict={'size': 24, 'color':  'red'})#; plt.axis('tight')    \n",
    "    fig.canvas.draw()       # draw the canvas, cache the renderer\n",
    "    image  = np.frombuffer(fig.canvas.tostring_rgb(), dtype='uint8')\n",
    "    image  = image.reshape(fig.canvas.get_width_height()[::-1] + (3,))\n",
    "    images.append(image)\n",
    "\n",
    "def runTemp(iT,iN,images,fig,ax,eqSteps=500,mcSteps=500):\n",
    "    pArr = initialize(iN)         # initialise\n",
    "    beta=1.0/iT \n",
    "    for i in range(eqSteps):         # equilibrate\n",
    "        update_rand(pArr, iN, beta)   \n",
    "    \n",
    "    for i in range(mcSteps):\n",
    "        update_rand(pArr, iN, beta)           \n",
    "        Ene = hamiltonian(pArr, iN)     # calculate the energy\n",
    "        Mag = mag(pArr)        # calculate the magnetisation\n",
    "        if i % 5 == 0: \n",
    "            mapPlot(ax,fig,pArr,i,iN,images)\n",
    "\n",
    "images=[]\n",
    "fig, ax = plt.subplots(figsize=(12,7))\n",
    "runTemp(1.00,32,images,fig,ax)\n",
    "imageio.mimsave('./test.gif', images, fps=10)\n",
    "Image(open('test.gif','rb').read())"
   ]
  },
  {
   "cell_type": "markdown",
   "id": "b5dc7971",
   "metadata": {},
   "source": [
    "Play around with the tempature. How does the Ising model look for different tempatures? \n",
    "\n",
    "Do you visualize a phase transition? (if you are impatient, move on!0"
   ]
  },
  {
   "cell_type": "markdown",
   "id": "9754f849",
   "metadata": {},
   "source": [
    "#### Step 1.1.2 Modelling the Phase transition "
   ]
  },
  {
   "cell_type": "markdown",
   "id": "028ddc0a",
   "metadata": {},
   "source": [
    "Now, what we would like to do for each of our simulations is compute a bunch of quantities about the matter. In particular, we would like to compute the following quantities for the Ising model: \n",
    "\n",
    " * Average Energy $\\langle E \\rangle$ averaged over all the cells of the Ising model\n",
    " * Average Magnetization $\\langle M \\rangle$ averaged over all the cells of the Ising model\n",
    " * Specific Heat $C=\\frac{\\langle E^{2}\\rangle - \\langle E\\rangle^{2}}{T^{2}}$ where $E$ is the cell energy averaged over all the cells of the Ising model\n",
    " * Magnetic Susceptibility $\\chi=\\frac{\\langle M^{2}\\rangle - \\langle M\\rangle^{2}}{T}$ where $M$ is the magnetization averaged over all of the cells in the Ising model\n",
    "\n",
    "Now the importance of this is that we would like to scan the temperature and observe a phase transition. The specific heat,  in particular, has an infinite discontinuity in the precence of a phase trasition. \n",
    "\n",
    "In the below modify the function to output thse variable. "
   ]
  },
  {
   "cell_type": "code",
   "execution_count": null,
   "id": "9ea6a180",
   "metadata": {},
   "outputs": [],
   "source": [
    "def runTemp(iT,iN,images,fig,ax,eqSteps=500,mcSteps=500):\n",
    "    pArr = initialize(iN)         # initialise\n",
    "    #initial variables? \n",
    "    beta=1.0/iT \n",
    "    for i in range(eqSteps):         # equilibrate\n",
    "        update_rand(pArr, iN, beta)   \n",
    "    \n",
    "    for i in range(mcSteps):\n",
    "        update_rand(pArr, iN, beta)           \n",
    "        Ene = hamiltonian(pArr, iN)     # calculate the energy\n",
    "        Mag = mag(pArr)        # calculate the magnetisation\n",
    "\n",
    "        #perhaps some code here to get below\n",
    "        \n",
    "    #compute the values for E,M,C,X here\n",
    "    E = \n",
    "    M = \n",
    "    C = \n",
    "    X = \n",
    "    return E,M,C,X\n"
   ]
  },
  {
   "cell_type": "markdown",
   "id": "6f322bab",
   "metadata": {},
   "source": [
    "Now we have computed all of these things, lets go ahead and scan the temperature to see what is going on. Make a scan of temperature from $k_{b}T = 1.5$ to $3.3$. \n",
    "\n",
    "As you scan along plot the different values for E,M,C,$\\chi$ Where do you see the phase transition? What characterizes this phase transition?"
   ]
  },
  {
   "cell_type": "code",
   "execution_count": null,
   "id": "d8d81739",
   "metadata": {},
   "outputs": [],
   "source": [
    "N=#Something (your choice, choose wisely)\n",
    "nt =#Number of temperature points\n",
    "T  = #np.linspace(1.5-ish,3.3-ish,nt) #again pick\n",
    "E,M,C,X = np.zeros(nt), np.zeros(nt), np.zeros(nt), np.zeros(nt)\n",
    "for temp in tqdm (range (nt), desc=\"Loading...\"):\n",
    "    E[temp],M[temp],C[temp],X[temp] = runTemp(T[temp],N,images,fig,ax,eqSteps=500,mcSteps=500)\n"
   ]
  },
  {
   "cell_type": "markdown",
   "id": "0d6a28d8",
   "metadata": {},
   "source": [
    "Now, given our above simulation. Go ahead and plot the the various parameters. What do you see? (It might be worth checking this with resources)"
   ]
  },
  {
   "cell_type": "code",
   "execution_count": null,
   "id": "5fecde19",
   "metadata": {
    "colab": {
     "base_uri": "https://localhost:8080/",
     "height": 591
    },
    "id": "5fecde19",
    "outputId": "539b04ac-a780-4a71-9af3-7901db86d669"
   },
   "outputs": [],
   "source": [
    "f = plt.figure(figsize=(18, 10)); #  \n",
    "\n",
    "sp =  f.add_subplot(2, 2, 1 );\n",
    "plt.scatter(T, E, s=50, marker='o', color='IndianRed')\n",
    "plt.xlabel(\"Temperature (T)\", fontsize=20);\n",
    "plt.ylabel(\"Energy \", fontsize=20);         plt.axis('tight');\n",
    "\n",
    "\n",
    "sp =  f.add_subplot(2, 2, 2 );\n",
    "#Plot magnetization\n",
    "\n",
    "sp =  f.add_subplot(2, 2, 3 );\n",
    "#Plot specific heat\n",
    "\n",
    "sp =  f.add_subplot(2, 2, 4 );\n",
    "#Plot magnetic susceptibility\n"
   ]
  },
  {
   "cell_type": "markdown",
   "id": "41e3ce50",
   "metadata": {
    "id": "41e3ce50"
   },
   "source": [
    "From the above, it should be clear there is a critical temperature for the Ising model. Its in weird units, but we could easily conver this to a normal temperature. The other thing you can see wright away is how this material magnetizes and how it can change as a function of the different temperature regimes.\n",
    "\n",
    "The full 2D Ising model has also been solved analytically, with a complete solution coming in the past 10 years. This was the motivation for the Fields medal in 2022 for Hugo Duminil-Copin at the University of Geneva. That being said the properties of criticallity and a simplfied solution have been known since 1950.\n",
    "\n",
    "Can you validate that you get the right critical tempature from analytic calcualtions ($T_{c} = 2/\\log(1+\\sqrt{2})$)"
   ]
  },
  {
   "cell_type": "markdown",
   "id": "f7b9c9e7",
   "metadata": {},
   "source": [
    "## Step 1.2:  Constructing Ising Model Simulation"
   ]
  },
  {
   "cell_type": "markdown",
   "id": "009f3405",
   "metadata": {},
   "source": [
    "Now that we have generated an Ising model, we want to build an optimized scheme to run the Ising model many times so that we can train a neural network to understand the critical temperature of the ising model.\n",
    "\n",
    "#### 1.2.1 Training an NN\n",
    "\n",
    "For this part of the lab, we would like to generate Ising Monte Carlo Simulations where we randomly sample many configurations, and we the evolve the configuration at a specific temperature and then save it. Practically means we need to make simulated events where in each event, we\n",
    "\n",
    "Randomly sample a config\n",
    "Evolve that config  𝑁 steps ( 𝑁≈500 )\n",
    "Save the evolved configuration, magnetization and temperature\n",
    "Repeat the above nsim times and write this all to disk\n",
    "Once, we have done that then we can use the datasets have generated to make a neural network that takes as input the random configuration and outputs the temperature.\n",
    "\n",
    "So now lets make a class that generates Ising configurations. We can use use the previous functions. The important function in our class is the simulate_save, this will write a file with all of our Ising simulations.\n",
    "\n",
    "A class setup is below for you to fill out.\n",
    "\n"
   ]
  },
  {
   "cell_type": "code",
   "execution_count": null,
   "id": "d9d8c6fc",
   "metadata": {
    "colab": {
     "base_uri": "https://localhost:8080/",
     "height": 623
    },
    "id": "d9d8c6fc",
    "outputId": "3862808f-5e0a-4407-9410-dc0239064a58"
   },
   "outputs": [],
   "source": [
    "import h5py \n",
    "\n",
    "class Ising():\n",
    "    \n",
    "    def __init__(self, iN, Temp):\n",
    "        self.N   = iN\n",
    "        self.T   = Temp\n",
    "        self.arr = self.initialize()\n",
    "        self.steps = 300\n",
    "        #History over simulatinp\n",
    "        self.E   = np.array([])\n",
    "        self.M   = np.array([])\n",
    "        self.C   = np.array([])\n",
    "        self.X   = np.array([])\n",
    "        self.nsim = 1000\n",
    "        \n",
    "    def initialize(self):   \n",
    "        #use previous function\n",
    "        return state\n",
    "    \n",
    "    def simulate(self):\n",
    "        beta = 1./self.T\n",
    "        for i in range(self.steps):\n",
    "            update_rand(self.arr, self.N, beta)           \n",
    "            Ene = hamiltonian(self.arr, N)\n",
    "            Mag = mag(self.arr)\n",
    "            #Now save energy magnetization \n",
    "            self.E   = np.append(self.E,Ene)\n",
    "            self.M   = np.append(self.M,Mag)\n",
    "            #Now COMPUTE specific Heat and Magnetic suscpetilibity\n",
    "            #HINT, consider what the meaning of RMS of Energy and Magnetization are\n",
    "            #Perhaps consider a sliding window over the last hundred steps\n",
    "            pC  = #code here\n",
    "            pX  = #code here\n",
    "            self.C   = np.append(self.C,pC)\n",
    "            self.X   = np.append(self.X,pX)\n",
    "\n",
    "    def simulate_save(self,pre=''):\n",
    "        h5f  = h5py.File((pre)+'data_'+str(self.T)+'.h5', 'a')\n",
    "        data = np.array([])#np.empty((1,self.N,self.N), int)\n",
    "        mags = np.array([])\n",
    "        TM1  = 1./self.T\n",
    "        for n in range(self.nsim):\n",
    "            if n % 25 == 0:\n",
    "                print(\"sim\",n)\n",
    "            self.initialize()\n",
    "            ## Add code to run simulate the ising model nsteps\n",
    "            ## update self.arr  \n",
    "\n",
    "            #for each simulation we want to save the magnetization and the array      \n",
    "            pMag = mag(self.arr)\n",
    "            data = np.append(self.arr,data)\n",
    "            mags  = np.append(pMag,mags)\n",
    "        #now we write the output array into a dataset\n",
    "        data = np.reshape(data,(self.nsim,self.N,self.N))\n",
    "        h5f.create_dataset('data', data=data)\n",
    "        h5f.create_dataset('mag' , data=mags)\n",
    "        h5f.close()\n",
    "                    \n",
    "    def lastAvg(self):\n",
    "        avgE = np.mean(self.E[500:-1])\n",
    "        avgM = np.mean(self.M[500:-1])\n",
    "        avgC = np.std(self.E[500:-1])\n",
    "        avgX = np.std(self.M[500:-1])\n",
    "        return avgE,avgM,avgC,avgX\n",
    "        \n",
    "    def plotEvol(self):\n",
    "        ts = range(len(self.E))\n",
    "        f = plt.figure(figsize=(18, 10)); #  \n",
    "        sp =  f.add_subplot(2, 2, 1 );\n",
    "        plt.scatter(ts, self.E, s=50, marker='o', color='IndianRed')\n",
    "        plt.xlabel(\"step\", fontsize=20);\n",
    "        plt.ylabel(\"Energy \", fontsize=20);         plt.axis('tight');\n",
    "\n",
    "        #PLOT THE MAGNETIZATION, SPECIFIC HEAT AND SUSCEPTIBILITY\n",
    "        \n",
    "test = Ising(64,3.4)\n",
    "test.simulate()\n",
    "test.plotEvol()"
   ]
  },
  {
   "cell_type": "markdown",
   "id": "534c156e",
   "metadata": {
    "id": "534c156e"
   },
   "source": [
    "Alright now that we have a class to run our Ising model and save things to disk we can go ahead and generate some samples following the code below, lets first generate a test sample so that we understand how to train the neural network. For this, lets just generate 10 test samples for each point, this shouldn't take too long, and will allow us to setup the neural network. \n",
    "\n",
    "Also, to make our ising model manageable, lets use a 32x32 Ising model. Note, feel free to change this! Second Note, this box will take a bit of time to run, its set up to do test run with 10 first, but at some point you should switch to 500.  "
   ]
  },
  {
   "cell_type": "code",
   "execution_count": null,
   "id": "e17fd1d0",
   "metadata": {
    "colab": {
     "base_uri": "https://localhost:8080/"
    },
    "id": "e17fd1d0",
    "outputId": "a437e96d-d4b6-4d7b-ffaa-568a9d09e79c"
   },
   "outputs": [],
   "source": [
    "import os\n",
    "nt=20\n",
    "T       = np.round(np.linspace(1.53, 3.28, nt),2)\n",
    "print(T)\n",
    "for temp in tqdm (range (nt), desc=\"Loading...\"):\n",
    "    #Some hacky code to clean up things\n",
    "    filename='data_'+str(T[temp])+'.h5'\n",
    "    try:\n",
    "        os.remove(filename)\n",
    "    except OSError:\n",
    "        pass\n",
    "    test = Ising(32,T[temp])\n",
    "    test.nsim=10#500 => \n",
    "    test.simulate_save()\n",
    "    \n",
    "f = h5py.File('data_1.53.h5', 'r') \n",
    "list(f.keys())\n",
    "f['data'].shape\n",
    "!ls"
   ]
  },
  {
   "cell_type": "markdown",
   "id": "cb03b058",
   "metadata": {
    "id": "cb03b058"
   },
   "source": [
    "Now we would like to develop a neural network that will take in this dataaset and train for whether the sample has undergood a phase transition. \n",
    "\n",
    "Before we build the Neural Network, we are going to use Torch Dataset to process and format the data. Setting this up is a little annoying so we will just write the code for this down here, and we will provide a little example of how to read a Torch DataLoaer. \n",
    "\n",
    "The one part that we will leave for you to figure out is what are the right labels and how do you split up the testing and training dataset to ensure your network learns. "
   ]
  },
  {
   "cell_type": "code",
   "execution_count": null,
   "id": "675bf626",
   "metadata": {},
   "outputs": [],
   "source": [
    "class DataSet(Dataset):\n",
    "    def __init__(self, samples, labels, temps):\n",
    "        super(DataSet, self).__init__()\n",
    "        self.labels  = labels\n",
    "        self.samples = samples\n",
    "        self.temps   = temps\n",
    "        if len(samples) != len(labels):\n",
    "            raise ValueError(\n",
    "                f\"should have the same number of samples({len(samples)}) as there are labels({len(labels)})\")\n",
    "            \n",
    "    def __len__(self):\n",
    "        return len(self.labels)\n",
    "\n",
    "    def __getitem__(self, index):\n",
    "        y = self.labels[index]\n",
    "        x = self.samples[index]\n",
    "        t = self.temps[index]\n",
    "        return x, y, t\n",
    "\n",
    "\n",
    "#Here is some code to read all the different files and make a dataset\n",
    "all_data  = None\n",
    "all_temps = None\n",
    "for temp in tqdm (range (nt), desc=\"Loading...\"):\n",
    "    f = h5py.File('data_'+str(T[temp])+'.h5', 'r')\n",
    "    if temp == 0:\n",
    "        all_data  = f['data']\n",
    "        all_temps = np.ones(all_data.shape[0])*temp\n",
    "    else:\n",
    "        all_data  = np.append(all_data, f['data'],axis=0)\n",
    "        all_temps = np.append(all_temps,np.ones(f['data'].shape[0])*temp)\n",
    "    \n",
    "all_data    = np.reshape(all_data,(all_data.shape[0],all_data.shape[1]*all_data.shape[2]))\n",
    "all_labels  = #build a numpy array that has labels 1 for below phase transition and 0 for above transition\n",
    "all_dataset = DataSet(samples=all_data.astype(\"float32\"),labels=all_labels,temps=all_temps)\n",
    "\n",
    "#Finally, we will split the dataset randomly\n",
    "data_train, data_test = #code to randomly split test and training\n",
    "#And a loader\n",
    "batch=10\n",
    "train_loader = DataLoader(data_train, batch_size=batch,shuffle=True)\n",
    "#here is an example how it works\n",
    "for count, (x, y, t) in enumerate(train_loader):\n",
    "    print(count,\"x value:\",x,x.shape,\"\\n Label:\",y,y.shape,\"\\n Temp:\",t,t.shape)\n",
    "    if count > 2:\n",
    "        break"
   ]
  },
  {
   "cell_type": "markdown",
   "id": "b09fef75",
   "metadata": {
    "id": "b09fef75"
   },
   "source": [
    "Now finally, setup a neural network that reads in the inputs, and then trains to find the label. Create your own neural network that takes the input as a vector or image (note you can use a Dense network or a CNN). \n",
    "\n",
    "Additionally, add a loss that classifies whether the data is above or below the critical tempeature. Run the training so that we get good performance for the classification of above or below the critical temperature."
   ]
  },
  {
   "cell_type": "code",
   "execution_count": null,
   "id": "adfdb1cd",
   "metadata": {
    "colab": {
     "base_uri": "https://localhost:8080/",
     "height": 1000
    },
    "id": "adfdb1cd",
    "outputId": "7147d6bf-b4b0-4fb2-bc3b-8a581a8a3395"
   },
   "outputs": [],
   "source": [
    "class simple_MLP_4layer(torch.nn.Module):\n",
    "    def __init__(self,input_size,out_channels=1,nhidden=64):\n",
    "        super().__init__()\n",
    "        self.model = nn.Sequential(\n",
    "            #Design your own neural network\n",
    "        )\n",
    "        self.output  = ##Perhaps an activation between 0 and 1\n",
    "\n",
    "    def forward(self, x):\n",
    "        x = self.model(x)\n",
    "        x = self.output(x)\n",
    "        return x\n",
    "\n",
    "                \n",
    "def train(model,n_epochs=20):\n",
    "    opt       = torch.optim.Adam(model.parameters(),lr=0.005)\n",
    "    criterion = #### come up with a loss function that is appropriate\n",
    "    for epoch in range(n_epochs):\n",
    "        model.train(True)\n",
    "        running_loss = 0.0; updates=0\n",
    "        for x, y, t in train_loader:\n",
    "            opt.zero_grad()\n",
    "            y_hat = model(x)\n",
    "            loss  = criterion(y_hat.flatten(),y) \n",
    "            loss.backward()\n",
    "            opt.step()\n",
    "            running_loss += loss\n",
    "            updates +=1\n",
    "            del x,y\n",
    "        print('Epoch: {} LOSS train: {} '.format(epoch,running_loss/(updates*batch)))\n",
    "\n",
    "model     = simple_MLP_4layer(all_data.shape[1],out_channels=1,act_out=True) \n",
    "train(model,n_epochs=400)"
   ]
  },
  {
   "cell_type": "markdown",
   "id": "848ad5c5",
   "metadata": {
    "id": "848ad5c5"
   },
   "source": [
    "Now run the validation and confirm that temperature prediction of the neural network. Plot the true value of the vadliation set agains the prediction. How clos is the preidction? What is the accuracy"
   ]
  },
  {
   "cell_type": "code",
   "execution_count": null,
   "id": "3a21b382",
   "metadata": {
    "colab": {
     "base_uri": "https://localhost:8080/"
    },
    "id": "3a21b382",
    "outputId": "63922958-83b2-4ed7-e359-55369563a530"
   },
   "outputs": [],
   "source": [
    "model.train(False)\n",
    "test_accuracy = Accuracy(task=\"binary\", num_classes=2)\n",
    "for x, y, t in test_loader:\n",
    "    with torch.no_grad():\n",
    "            #Run inference on test dataset    \n",
    "            #Insert code here\n",
    "\n",
    "#compute accuracy\n",
    "#plot Prediction vs tempature for truth and pred\n",
    "#Do you get good validation? "
   ]
  },
  {
   "cell_type": "markdown",
   "id": "5e26e2c0",
   "metadata": {},
   "source": [
    "#### 1.2.2 NN application on Triangle Ising Model"
   ]
  },
  {
   "attachments": {
    "triangular_lattice.webp": {
     "image/webp": "[encoded data removed]"
    }
   },
   "cell_type": "markdown",
   "id": "2eac0690",
   "metadata": {},
   "source": [
    "Ok, so once our validation is looking good, we want to show are neural network has actually learned something non-trivial for that we want to make a different Magnetic fild configuration with a different, but similar Hamiltonian, and see if we can us our neural network to predict the temuprature change. \n",
    "\n",
    "As a consequence, write a function for the Hamiltonian of the Triangular Ising model. We can define the triangular Ising model as a trigualr array as oppose to a square array like in the picture below fore [here](https://link.springer.com/article/10.1134/S1063776122050016)\n",
    "![triangular_lattice.webp](attachment:triangular_lattice.webp)\n",
    "\n",
    "The Hamiltonian is again the Ising Hamiltonian except now we sum over all 6 elements $i,j$ connected to a point. \n",
    "$$\n",
    "H = -\\frac{1}{2}\\sum_{i,j\\in{adjacent to i}} \\sigma_{i}\\sigma_{j} - h \\sum_{i} \\sigma_{i}\n",
    "$$\n",
    "\n",
    "Just fousing on teh first term, write a Hamiltonian that will act on an N$\\times$N array following a pattern above  to create the triangular array. We can again use a video game Geometry to make this easier. Connect one end to the other. \n"
   ]
  },
  {
   "cell_type": "code",
   "execution_count": null,
   "id": "fc55fb75",
   "metadata": {
    "colab": {
     "base_uri": "https://localhost:8080/"
    },
    "id": "fc55fb75",
    "outputId": "e741a856-d9e4-49e3-9d94-75c0a841e6e6"
   },
   "outputs": [],
   "source": [
    "#Now lets define the trignular ising \n",
    "def hamiltonian(iArr,N):\n",
    "    #Compute the hamiltonian (note if you use this function you don't need to redeclare the above class)\n",
    "    energy = 0\n",
    "    for i in range(N):\n",
    "        for j in range(N):\n",
    "     \n",
    "    return energy\n",
    "\n",
    "def flip(i,j,iArr,beta):\n",
    "    #finally run the Markov Chain process that computes delta energy, and based on the Markov deicison flips the spins. \n",
    "\n",
    "#Run some checks? \n",
    "#test.simulate()\n",
    "#E[temp],M[temp],C[temp],X[temp]=test.lastAvg()"
   ]
  },
  {
   "cell_type": "markdown",
   "id": "f949706b",
   "metadata": {
    "id": "f949706b"
   },
   "source": [
    "Finally, run the neural entwork on a dataset for triangular Ising models. Show that you can predict the correct tempearture, what is it? "
   ]
  },
  {
   "cell_type": "code",
   "execution_count": null,
   "id": "997a7583",
   "metadata": {
    "colab": {
     "base_uri": "https://localhost:8080/",
     "height": 552
    },
    "id": "997a7583",
    "outputId": "a4d91e00-b2d8-4687-b2d7-ab7a99d3a038"
   },
   "outputs": [],
   "source": [
    "T       = np.round(np.linspace(1.53, 6.86, 28),2);\n",
    "for temp in tqdm (range (9), desc=\"Loading...\"):\n",
    "    filename='tridata_'+str(T[temp])+'.h5'\n",
    "    try:\n",
    "        os.remove(filename)\n",
    "    except OSError:\n",
    "        pass\n",
    "    test = Ising(32,T[temp])\n",
    "    test.nsim=500\n",
    "    test.simulate_save('tri')"
   ]
  },
  {
   "cell_type": "markdown",
   "id": "b152aec1",
   "metadata": {
    "id": "b152aec1"
   },
   "source": [
    "Finally, run the neural network on a dataset for triangular Ising models. Show that you can predict the correct tempearture, what is it? "
   ]
  },
  {
   "cell_type": "code",
   "execution_count": null,
   "id": "d3329acd",
   "metadata": {},
   "outputs": [],
   "source": [
    "#Now lets test it on something different\n",
    "def load():\n",
    "    #following above, read teh data and output a dataset\n",
    "    return data_tri_train, data_tri_test\n",
    "\n",
    "data_tri_train, data_tri_test = load()\n",
    "batch=1000\n",
    "test_tri_loader = DataLoader(data_tri_test, batch_size=batch,shuffle=True)\n",
    "\n",
    "#again following above, plot the temp applying your prevoiusly trained NN to the triagle boltzman\n",
    "model.train(False)\n",
    "for x, y, t in test_tri_loader:\n",
    "    with torch.no_grad():\n",
    "\n",
    "#What is accuracy?     \n",
    "#plot Score vs Temp where is the phase transition, is it consistent with truth see arxiv paper"
   ]
  },
  {
   "cell_type": "markdown",
   "id": "46faca5c",
   "metadata": {},
   "source": [
    "Ok, so we should now have a result, and you can see hwo this behaves. From this we can ask a few questions:  \n",
    " * Do you see a phase transition?  \n",
    " * Does this agree with the paper? \n",
    " * What can you do to make this more accurate?\n",
    " \n",
    "Now there are many follow ups to this study. However, I would like to highlight that he big gains that come from thsi are not the network itself, its more that the NN has been able to do a visual inspection of a material and made conclusions that are not necessarily obvious. Using this can lead to better analysis of data. Moreover, we can ask ourselves the question if we can accurately predict properties of materials can we use this to advance our understanding. \n",
    "\n",
    "In the following section, we will explore how we can use Machine learned distributions to rapdily accelerate simulation allow us to perform advanced lattice measurements leading to critical material properties. "
   ]
  },
  {
   "cell_type": "markdown",
   "id": "68648ab5",
   "metadata": {
    "id": "68648ab5"
   },
   "source": [
    "# Part 2: Scalar field theory on a lattice"
   ]
  },
  {
   "cell_type": "markdown",
   "id": "Sz6rnF3EIS_z",
   "metadata": {
    "id": "Sz6rnF3EIS_z"
   },
   "source": [
    "In this part of the tutorial, we will explore the methods of lattice Quantum Chromodynamics. Quantum Chromodynamics is the theory that describes the strong interaction between quarks and gluons, which are fundamental particles that make up mesons and hadrons. These particles constitute the majority of visible matter in the Universe. QCD is a crucial component of the Standard Model (SM) and is used to investigate physical phenomena such as the anomalous magnetic moment of the muon and the interactions of Dark Matter with Nuclei.\n",
    "\n",
    "Due to its large coupling constant, QCD cannot be studied using perturbation theory. Well-established non-perturbative method, lattice QCD enables computations of physical observables though numerical simulations. Some of the most famous results obtained with lattice QCD are the study of quark potential, hadron spectrum, and hadron structure.\n",
    "\n",
    "In this part of the tutorial, we will focus on the toy lattice QCD model - the lattice scalar field theory. Despite being the simplest interacting theory, it is also one of the most effective theoretical tools for studying critical phenomena in a wide variety of physical systems. Additionally, the Higgs field in the SM is a scalar field that breaks the weak isospin symmetry of the electroweak interaction and generates mass to many particles.\n",
    "\n",
    "Instead of using the traditional lattice QCD approach, we will explore recent developments in machine learning. This method has already been applied to some toy models and has demonstrated its effectiveness by significantly reducing the uncertainties of physical observables by several orders of magnitude while guaranteeing correctness [arXiv:2003.06413, arXiv:2202.11712]."
   ]
  },
  {
   "cell_type": "markdown",
   "id": "czqHV-9fsmFt",
   "metadata": {
    "id": "czqHV-9fsmFt"
   },
   "source": [
    "### Similarities between Scalar field theory and Ising Model\n",
    "\n",
    "The Ising model and scalar field theory are seemingly different models at the microscopic level, but they share some fundamental properties that make them belong to the same universality class.\n",
    "\n",
    "One of the key similarities is the global symmetry $Z_2$, which is the symmetry of the Ising model with respect to the flipping of all spins. In scalar field theory, this symmetry corresponds to the invariance of the Lagrangian under the transformation $\\phi \\rightarrow -\\phi$, where $\\phi$ is the scalar field.\n",
    "\n",
    "Another important property shared by the two models is that they both undergo a phase transition at a critical temperature or coupling strength, respectively. At this critical point, the correlation length diverges, and the system exhibits scaling behavior that is independent of the microscopic details of the system.\n",
    "\n",
    "This scaling behavior is described by critical exponents, which characterize the power-law behavior of various physical observables near the critical point. These critical exponents are universal, meaning that they are the same for all models in the same universality class, regardless of the specific microscopic details.\n",
    "\n",
    "In summary, while the Ising model and scalar field theory may be very different at the microscopic level, they share some fundamental properties that make them belong to the same universality class. This universality allows us to study and understand the critical behavior of these models without needing to know their microscopic details, but only their macroscopic properties.\n"
   ]
  },
  {
   "cell_type": "markdown",
   "id": "by52H_GXIQUw",
   "metadata": {
    "id": "by52H_GXIQUw"
   },
   "source": [
    "## Intro to LQCD\n",
    "\n",
    "In lattice QCD the concept of continuous space-time is replaced with a 4D Euclidean lattice that has a constant lattice spacing denoted as $a$. The degrees of freedom in lattice QCD are classical field variables (rather than operators) that reside on the lattice. The Euclidean action $S_E$ of the system is discretized on the lattice such that in the limit $a → 0$ the Euclidean continuum action is obtained. The Boltzmann weight factor $e ^{S_E}$ is used in subsequent computations. In order to study Euclidean correlators, the operators that appear in them are replaced by functionals that use the classical lattice field variables. The computation of Euclidean correlation functions in lattice QCD involves evaluating these functionals on a given lattice field configuration, weighting them with the Boltzmann factor, and integrating over all possible field configurations. We will mimic the whole approach in this tutorial."
   ]
  },
  {
   "cell_type": "markdown",
   "id": "ZdNusq1qGFu5",
   "metadata": {
    "id": "ZdNusq1qGFu5"
   },
   "source": [
    "### Helper functions"
   ]
  },
  {
   "cell_type": "markdown",
   "id": "14997313",
   "metadata": {
    "id": "14997313"
   },
   "source": [
    "Let's begin by defining some useful helper functions before diving into the interesting stuff."
   ]
  },
  {
   "cell_type": "code",
   "execution_count": null,
   "id": "c6ee373a",
   "metadata": {
    "id": "c6ee373a"
   },
   "outputs": [],
   "source": [
    "def torch_mod(x):\n",
    "    return torch.remainder(x, 2*np.pi)\n",
    "def torch_wrap(x):\n",
    "    return torch_mod(x+np.pi) - np.pi\n",
    "def grab(var):\n",
    "    return var.detach().cpu().numpy()\n",
    "\n",
    "def print_metrics(history, avg_last_N_epochs):\n",
    "  print(f'== Era {era} | Epoch {epoch} metrics ==')\n",
    "  for key, val in history.items():\n",
    "      avgd = np.mean(val[-avg_last_N_epochs:])\n",
    "      print(f'\\t{key} {avgd:g}')\n",
    "def moving_average(x, window=10):\n",
    "    if len(x) < window:\n",
    "       return np.mean(x, keepdims=True)\n",
    "    else:\n",
    "       return np.convolve(x, np.ones(window), 'valid') / window\n"
   ]
  },
  {
   "cell_type": "markdown",
   "id": "GC67kDSeGqFd",
   "metadata": {
    "id": "GC67kDSeGqFd"
   },
   "source": [
    "We have also defined some functions for creating visually appealing plots. You may skip this part if you wish."
   ]
  },
  {
   "cell_type": "code",
   "execution_count": null,
   "id": "ivJj94EmGavs",
   "metadata": {
    "id": "ivJj94EmGavs"
   },
   "outputs": [],
   "source": [
    "def init_live_plot(dpi=125, figsize=(8,4)):\n",
    "    fig, ax_ess = plt.subplots(1,1, dpi=dpi, figsize=figsize)\n",
    "    plt.xlim(0, N_era*N_epoch)\n",
    "    plt.ylim(0, 1)\n",
    "    ess_line = plt.plot([0],[0], alpha=0.5) # dummy\n",
    "    plt.grid(False)\n",
    "    plt.ylabel('ESS')\n",
    "    ax_loss = ax_ess.twinx()\n",
    "    loss_line = plt.plot([0],[0], alpha=0.5, c='orange') # dummy\n",
    "    plt.grid(False)\n",
    "    plt.ylabel('Loss')\n",
    "    plt.xlabel('Epoch')\n",
    "    display_id = display(fig, display_id=True)\n",
    "    return dict(\n",
    "        fig=fig, ax_ess=ax_ess, ax_loss=ax_loss,\n",
    "        ess_line=ess_line, loss_line=loss_line,\n",
    "        display_id=display_id\n",
    "    )\n",
    "def update_plots(history, fig, ax_ess, ax_loss, ess_line, loss_line, display_id):\n",
    "    Y = np.array(history['ess'])\n",
    "    Y = moving_average(Y, window=15)\n",
    "    ess_line[0].set_ydata(Y)\n",
    "    ess_line[0].set_xdata(np.arange(len(Y)))\n",
    "    Y = history['loss']\n",
    "    Y = moving_average(Y, window=15)\n",
    "    loss_line[0].set_ydata(np.array(Y))\n",
    "    loss_line[0].set_xdata(np.arange(len(Y)))\n",
    "    ax_loss.relim()\n",
    "    ax_loss.autoscale_view()\n",
    "    fig.canvas.draw()\n",
    "    display_id.update(fig) # need to force colab to update plot"
   ]
  },
  {
   "cell_type": "markdown",
   "id": "W0HN204SGzzn",
   "metadata": {
    "id": "W0HN204SGzzn"
   },
   "source": [
    "PyTorch is a flexible machine learning framework that enables the construction of complex neural networks. However, for this particular project, we will only be using two-dimensional convolutional neural networks with varying configurations. The code below defines a fabric function that constructs a CNN with user-specified parameters."
   ]
  },
  {
   "cell_type": "code",
   "execution_count": null,
   "id": "e0446c70",
   "metadata": {
    "id": "e0446c70"
   },
   "outputs": [],
   "source": [
    "def make_conv_net(*, hidden_sizes, kernel_size, in_channels, out_channels):\n",
    "    sizes = [in_channels] + hidden_sizes + [out_channels]\n",
    "    #assert packaging.version.parse(torch.__version__) >= packaging.version.parse('1.5.0')\n",
    "    assert kernel_size % 2 == 1, 'kernel size must be odd for PyTorch >= 1.5.0'\n",
    "    padding_size = (kernel_size // 2)\n",
    "    net = []\n",
    "    for i in range(len(sizes) - 1):\n",
    "        net.append(torch.nn.Conv2d(\n",
    "            sizes[i], sizes[i+1], kernel_size, padding=padding_size,\n",
    "            stride=1, padding_mode='circular'))\n",
    "        if i != len(sizes) - 2:\n",
    "            net.append(torch.nn.LeakyReLU())\n",
    "        else:\n",
    "            net.append(torch.nn.Tanh())\n",
    "    return torch.nn.Sequential(*net)"
   ]
  },
  {
   "cell_type": "markdown",
   "id": "7lqwaaMuHgpW",
   "metadata": {
    "id": "7lqwaaMuHgpW"
   },
   "source": [
    "As an example, we can use the following code to build a CNN with 2 hidden channels of size 8, a kernel size of 3, and 2 input channels and 4 output channels:"
   ]
  },
  {
   "cell_type": "code",
   "execution_count": null,
   "id": "6W-PxiRnHtFI",
   "metadata": {
    "colab": {
     "base_uri": "https://localhost:8080/"
    },
    "id": "6W-PxiRnHtFI",
    "outputId": "7dfa3ff3-3343-4b6b-f615-0d59965f681d"
   },
   "outputs": [],
   "source": [
    "m = make_conv_net(\n",
    "    hidden_sizes=[8,8],\n",
    "    kernel_size=3,\n",
    "    in_channels=2,\n",
    "    out_channels=4\n",
    ")\n",
    "print(m)"
   ]
  },
  {
   "cell_type": "markdown",
   "id": "b3bb86ee",
   "metadata": {
    "id": "b3bb86ee"
   },
   "source": [
    "## Scalar field theory on the lattice"
   ]
  },
  {
   "cell_type": "markdown",
   "id": "vbKiXslKVMNT",
   "metadata": {
    "id": "vbKiXslKVMNT"
   },
   "source": [
    "$\\newcommand{\\n}[0]{\\vec{n}}$\n",
    "A simple discretization of the derivatives in the continuum Euclidean action gives rise to a valid lattice Euclidean action,\n",
    "\\begin{equation}\n",
    "\\begin{split}\n",
    "S^E_{\\text{cont}}[\\phi] &= \\int d^2\\vec{x} ~ (\\partial_\\mu \\phi(\\vec{x}))^2 + m^2 \\phi(\\vec{x})^2 + \\lambda \\phi(\\vec{x})^4 \\\\\n",
    "\\rightarrow S^E_{\\text{latt}}(\\phi) &= \\sum_{\\n} \\phi(\\n) \\sum_{\\mu \\in \\{1,2\\}}  \\left[ 2\\phi(\\n) - \\phi(\\n+\\hat{\\mu}) - \\phi(\\n-\\hat{\\mu}) \\right] + m^2 \\phi(\\n)^2 + \\lambda \\phi(\\n)^4 \\qquad (1)\n",
    "\\end{split}\n",
    "\\end{equation}\n",
    "where now $\\phi(\\n)$ is only defined on the sites of the $L_x \\times L_y$ lattice, $\\vec{n} = (n_x, n_y)$, with integer $n_x, n_y$, and $\\hat{\\mu}$ is an operator such that $\\hat{0} = (1, 0),\\hat{1} = (0, 1)$. We have implicitly moved to \"lattice units\" where $a=1$ such that $L_x, L_y, V$ are integers and all quantities are unitless. The discretized field $\\phi$ can therefore be thought of as an $(L_x \\times L_y)$-dimensional vector. We use periodic boundary conditions in all directions, i.e. $\\phi(L_x, y) \\equiv \\phi(0, y)$, etc. For convenience, we typically abbreviate $S^E_{\\text{latt}} \\equiv S$.\n",
    "\n",
    "More details on $\\phi^4$ lattice scalar field theory can be found in [this PhD thesis](https://edoc.hu-berlin.de/bitstream/handle/18452/14790/schroeder.pdf?sequence=1) from Ingmar Vierhaus."
   ]
  },
  {
   "cell_type": "markdown",
   "id": "fZjspsSj68Eh",
   "metadata": {
    "id": "fZjspsSj68Eh"
   },
   "source": [
    "### Ising limit\n",
    "\n",
    "The action for scalar field theory defined above can be rewritten in a following form\n",
    "\\begin{equation}\n",
    "\\begin{split}\n",
    "S^E_{\\text{latt}}(\\phi) &= \\sum_{\\n} -2 \\kappa \\sum_{\\mu \\in \\{1,2\\}} \\phi(\\n) \\phi(\\n+\\hat{\\mu}) + \\phi(\\n)^2 + \\lambda' (\\phi(\\n)^2 - 1)^2 + constant \\qquad (2)\n",
    "\\end{split}\n",
    "\\end{equation}\n",
    "\n",
    "The Ising limit of scalar field theory is obtained by taking the limit $\\lambda \\rightarrow \\infty$. In this limit, the scalar field is constrained to take values only in the set ${\\pm 1}$, since any other value would result in an infinite potential energy contribution to the action.\n",
    "\n",
    "To see why this is the case, consider the potential energy term in the action:\n",
    "\n",
    "\\begin{equation}\n",
    "V(\\phi) = \\lambda'(\\phi^2 - 1)^2\n",
    "\\end{equation}\n",
    "\n",
    "For large $\\lambda$, this potential energy term dominates over the kinetic energy term, and the field $\\phi$ will tend to minimize the potential energy by taking values as close to $\\pm 1$ as possible.\n",
    "\n",
    "Substituting $\\phi(\\n) = \\pm 1$ into the action for scalar field theory, we get:\n",
    "\n",
    "\\begin{equation}\n",
    "\\begin{split}\n",
    "S^E_{\\text{latt}}(\\phi) &= \\sum_{\\n} -2 \\kappa \\sum_{\\mu \\in {1,2}} \\phi(\\n) \\phi(\\n+\\hat{\\mu}) + constant\n",
    "\\end{split}\n",
    "\\end{equation}\n",
    "\n",
    "This is precisely the action for the two-dimensional Ising model on a lattice with coupling constant $J = 2\\kappa$."
   ]
  },
  {
   "cell_type": "markdown",
   "id": "p6ROldsj_Ai-",
   "metadata": {
    "id": "p6ROldsj_Ai-"
   },
   "source": [
    "### **Exercise: rescaling bare parameters**\n",
    "\n",
    "Although we will be using form $(1)$ of the action in our work, form $(2)$ is more commonly used in literature. In this exercise, you will need to find the relationships between the parameters $(m,\\lambda)$ in eq. $(1)$ and the parameters $(\\kappa,\\lambda)$ in eq. $(2)$.\n",
    "\n"
   ]
  },
  {
   "cell_type": "markdown",
   "id": "GHhj0aAX_leA",
   "metadata": {
    "id": "GHhj0aAX_leA"
   },
   "source": [
    "Answer:\n",
    "$$\n",
    "m^2 = \\frac{1-2\\lambda'}{\\kappa} - 4, \\, \\lambda = \\frac{\\lambda'}{\\kappa ^2}\n",
    "$$"
   ]
  },
  {
   "cell_type": "markdown",
   "id": "bcff8a21",
   "metadata": {
    "id": "bcff8a21"
   },
   "source": [
    "The class below implements action $(1)$. Each instance of the class is a function $S$ with fixed $m^2$, $\\lambda$."
   ]
  },
  {
   "cell_type": "code",
   "execution_count": null,
   "id": "12596766",
   "metadata": {
    "id": "12596766"
   },
   "outputs": [],
   "source": [
    "class ScalarPhi4Action:\n",
    "    def __init__(self, M2, lam):\n",
    "        self.M2 = M2\n",
    "        self.lam = lam\n",
    "    def __call__(self, phi):\n",
    "        action_density = torch.zeros_like(phi)\n",
    "        \n",
    "        # potential term\n",
    "        action_density += self.M2*phi**2\n",
    "        action_density += self.lam*phi**4\n",
    "        \n",
    "        # kinetic term (discrete Laplacian)\n",
    "        Nd = len(phi.shape)-1\n",
    "        dims = range(1,Nd+1)\n",
    "        for mu in dims:\n",
    "            action_density += 2*phi**2\n",
    "            action_density -= phi*torch.roll(phi, -1, mu)\n",
    "            action_density -= phi*torch.roll(phi, 1, mu)\n",
    "        return torch.sum(action_density, dim=tuple(dims))"
   ]
  },
  {
   "cell_type": "markdown",
   "id": "691441e4",
   "metadata": {
    "id": "691441e4"
   },
   "source": [
    "Let us return to the idea of the phase transitions in these models. Just as the Ising Model exhibits an ordered phase below the critical temperature and a disordered one above, the scalar field theory has a symmetric phase and a broken symmetry phase.\n",
    "For simplicity, we restrict focus to the **symmetric phase**. The cell below instantiates an action for a set of parameters in this phase."
   ]
  },
  {
   "cell_type": "code",
   "execution_count": null,
   "id": "1fecd4b2",
   "metadata": {
    "id": "1fecd4b2"
   },
   "outputs": [],
   "source": [
    "M2 = -4.0\n",
    "lam = 8.0\n",
    "\n",
    "phi4_action = ScalarPhi4Action(M2=M2, lam=lam)"
   ]
  },
  {
   "cell_type": "markdown",
   "id": "c29cea5a",
   "metadata": {
    "id": "c29cea5a"
   },
   "source": [
    "## Normalizing flows"
   ]
  },
  {
   "cell_type": "markdown",
   "id": "3d895eda",
   "metadata": {
    "id": "3d895eda"
   },
   "source": [
    "The lattice action defines the _target distribution_ $p$ over configurations $\\phi$,\n",
    "\\begin{equation}\n",
    "p(\\phi) = \\frac{1}{Z} e^{-S(\\phi)}, \\quad\n",
    "Z \\equiv \\int \\prod_{\\vec{n}} d\\phi(\\vec{n}) ~ e^{-S(\\phi)},\n",
    "\\end{equation}\n",
    "where $\\prod_{\\vec{n}}$ runs over all lattice sites $\\vec{n}$.\n",
    "Typically one uses algorithms like Hybrid Monte Carlo (HMC) to generate configurations from this distribution.\n",
    "\n",
    "Instead, a powerful method to generate samples from complicated distributions is to: \n",
    "1. draw samples $z$ from a simple distribution $r(z)$ (the _prior distribution_), then\n",
    "2. apply a deterministic change-of-variables $f$ (a _normalizing flow_ (NF)) to get transformed samples $\\phi = f(z)$.\n",
    "\n",
    "The prior $r$ and flow $f$ together define a _normalizing flow model_. Note that in this example, $z$ and $\\phi$ are both scalar fields.\n",
    "\n",
    "The transformed samples $\\phi$ are distributed according to the _model distribution_, $q$, whose density is given by the change-of-variables (or \"conservation of probability\") formula,\n",
    "\n",
    "\\begin{equation}\n",
    "    q(\\phi) = r(z) [J(z)]^{-1} = r(z) \\left|\\det_{kl} \\frac{\\partial f_k(z)}{ \\partial z_l} \\right|^{-1} .\n",
    "\\end{equation}\n",
    "\n",
    "\n",
    "$f$ must be **invertible** and **differentiable** for $q(\\phi)$ to be well-defined. For the model to be useful, $f$ must be expressive and the Jacobian determinant factor $J(z)$ must be efficient to calculate. As you'll see below, in some cases it is easy to compute $J$ even when the whole Jacobian matrix is intractable. \n",
    "\n",
    "<!-- Below we construct _coupling layers_ where only the diagonal elements are needed, because the Jacobian matrix is known to be triangular. -->\n",
    "\n"
   ]
  },
  {
   "cell_type": "markdown",
   "id": "52pdk-dUpLRg",
   "metadata": {
    "id": "52pdk-dUpLRg"
   },
   "source": [
    "\n",
    "### **A simple example**\n",
    "The Box-Muller transform is an example of this trick in practice: to produce Gaussian random variables, draw two variables $U_1$ and $U_2$ from $\\text{unif}(0,1)$ then change variables to\n",
    "\n",
    "\\begin{equation}\n",
    "    Z_1 = \\sqrt{-2 \\ln{U_1}} \\cos(2\\pi U_2)\n",
    "    \\quad \\text{and} \\quad\n",
    "    Z_2 = \\sqrt{-2 \\ln{U_1}} \\sin(2\\pi U_2).\n",
    "\\end{equation}\n",
    "\n",
    "The resulting variables $Z_1, Z_2$ are then distributed according to an uncorrelated, unit-variance Gaussian distribution.\n"
   ]
  },
  {
   "cell_type": "code",
   "execution_count": null,
   "id": "kEIpRg-lafkk",
   "metadata": {
    "colab": {
     "base_uri": "https://localhost:8080/",
     "height": 275
    },
    "id": "kEIpRg-lafkk",
    "outputId": "64c63f13-c458-4820-947e-e12498862f27"
   },
   "outputs": [],
   "source": [
    "batch_size = 2**14\n",
    "u = np.random.random(size=(batch_size, 2))\n",
    "z = np.sqrt(-2*np.log(u[:,0]))[:,np.newaxis] * np.stack(\n",
    "    (np.cos(2*np.pi*u[:,1]), np.sin(2*np.pi*u[:,1])), axis=-1)\n",
    "\n",
    "fig, ax = plt.subplots(1,2, dpi=125, figsize=(4,2))\n",
    "for a in ax:\n",
    "    a.set_xticks([-2, 0, 2])\n",
    "    a.set_yticks([-2, 0, 2])\n",
    "    a.set_aspect('equal')\n",
    "ax[0].hist2d(u[:,0], u[:,1], bins=30, range=[[-3.0,3.0], [-3.0,3.0]])\n",
    "ax[0].set_xlabel(r\"$U_1$\")\n",
    "ax[0].set_ylabel(r\"$U_2$\", rotation=0, y=.46)\n",
    "ax[1].hist2d(z[:,0], z[:,1], bins=30, range=[[-3.0,3.0], [-3.0,3.0]])\n",
    "ax[1].set_yticklabels([])\n",
    "ax[1].set_xlabel(r\"$Z_1$\")\n",
    "ax[1].set_ylabel(r\"$Z_2$\", rotation=0, y=.53)\n",
    "ax[1].yaxis.set_label_position(\"right\")\n",
    "ax[1].yaxis.tick_right()\n",
    "plt.show()"
   ]
  },
  {
   "cell_type": "markdown",
   "id": "J6r4VTayaebl",
   "metadata": {
    "id": "J6r4VTayaebl"
   },
   "source": [
    "\n",
    "We can analytically compute the density associated with output samples by the **change-of-variables formula** relating the _prior density_ $r(U_1, U_2) = 1$ to the _output density_ $q(Z_1, Z_2)$:\n",
    "\n",
    "\\begin{equation}\n",
    "\\begin{split}\n",
    "    q(Z_1, Z_2) &= r(U_1, U_2) \\left| \\det_{kl} \\frac{\\partial Z_k(U_1, U_2)}{\\partial U_l} \\right|^{-1} \\\\\n",
    "    &= 1 \\times \\left| \\det \\left( \\begin{matrix}\n",
    "        \\frac{-1}{U_1 \\sqrt{-2 \\ln{U_1}}} \\cos(2\\pi U_2) &\n",
    "        - 2\\pi \\sqrt{-2 \\ln{U_1}} \\sin(2\\pi U_2) \\\\\n",
    "        \\frac{-1}{U_1 \\sqrt{-2 \\ln{U_1}}} \\sin(2\\pi U_2) &\n",
    "        2\\pi \\sqrt{-2 \\ln{U_1}} \\cos(2\\pi U_2)\n",
    "        \\end{matrix} \\right) \\right|^{-1} \\\\\n",
    "    &= \\left| \\frac{2 \\pi}{U_1} \\right|^{-1}.\n",
    "\\end{split}\n",
    "\\end{equation}\n",
    "\n",
    "Here, the term $J(U_1, U_2) \\equiv \\left| \\det_{kl} \\frac{\\partial Z_k(U_1, U_2)}{\\partial U_l} \\right|$ is the determinant of the Jacobian of the transformation from $(U_1,U_2)$ to $(Z_1,Z_2)$. Intuitively, the Jacobian factor can be thought of as a change in volume element, therefore the change-of-variables formula must contain the inverse of this factor (spreading out volume decreases density). To complete the example, we can rearrange the change of variables to find $U_1 = \\exp(-(Z_1^2 + Z_2^2) / 2)$ and therefore\n",
    "\\begin{equation}\n",
    "    q(Z_1, Z_2) = \\frac{1}{2\\pi} e^{-(Z_1^2 + Z_2^2)/2}.\n",
    "\\end{equation}\n",
    "\n",
    "**NOTE**: In this example, the model has no free parameters because we didn't need any to create a transform that exactly reproduced our target distribution (independent, unit-variance Gaussian). In general, we may not know a normalizing flow that exactly produces our desired distribution, and so instead construct parametrized models that we can variationally optimize to _approximate_ that target distribution, and because we can compute the density these can be corrected to nevertheless guarantee exactness."
   ]
  },
  {
   "cell_type": "markdown",
   "id": "7b9be32c",
   "metadata": {
    "id": "7b9be32c"
   },
   "source": [
    "### **Prior distribution**\n",
    "\n",
    "We choose the prior distribution to be independent and identically distributed Gaussians at each lattice site, with unit width and mean zero. This is easy to sample from, and intuitively gives a \"blank slate\" for $f$ to build correlations into.\n",
    "\n",
    "The cell below defines a class for this prior (which is really just a wrapper for PyTorch's normal distribution sampler), and shows how to instantiate it for lattice volume $L^2$.\n",
    "\n",
    "You will notice that in addition to just setting up a normal and sampling, we explicitly comput the log-likelihood (aka log probability). This strategy helps with the expressiveness and tells torch that this is differentiable. "
   ]
  },
  {
   "cell_type": "code",
   "execution_count": null,
   "id": "b3f48f60",
   "metadata": {
    "id": "b3f48f60"
   },
   "outputs": [],
   "source": [
    "class SimpleNormal:\n",
    "    def __init__(self, loc, var):\n",
    "        self.dist = torch.distributions.normal.Normal(\n",
    "            torch.flatten(loc), torch.flatten(var))\n",
    "        self.shape = loc.shape\n",
    "    def log_prob(self, x):\n",
    "        logp = self.dist.log_prob(x.reshape(x.shape[0], -1))\n",
    "        return torch.sum(logp, dim=1)\n",
    "    def sample_n(self, batch_size):\n",
    "        x = self.dist.sample((batch_size,))\n",
    "        return x.reshape(batch_size, *self.shape)\n",
    "    \n",
    "Lt, Lx = 8, 16\n",
    "lattice_shape = (Lt,Lx)\n",
    "prior = SimpleNormal(torch.zeros(lattice_shape), torch.ones(lattice_shape))\n",
    "print(\"Example:\",prior.sample_n(1).shape)\n",
    "print(\"Example values: \\n\",prior.sample_n(1))"
   ]
  },
  {
   "cell_type": "markdown",
   "id": "788c0589",
   "metadata": {
    "id": "788c0589"
   },
   "source": [
    "### Coupling layers"
   ]
  },
  {
   "cell_type": "markdown",
   "id": "8c2d185e",
   "metadata": {
    "id": "8c2d185e"
   },
   "source": [
    "Expressive functions can be built through composition of simpler ones, i.e.\n",
    "\\begin{equation}\n",
    "    f = g_n \\circ g_{n-1} \\circ \\ldots \\circ g_1 \\Leftrightarrow f(z) = g_n(g_{n-1}(\\ldots g_1(z)))\n",
    "\\end{equation}\n",
    "When each simpler function is invertible and differentiable, the composed function is as well. \n",
    "\n",
    "**Coupling layers** are one approach to defining the $g_i$ in the composed function. For input variables $\\phi$, these functions are defined to update only the \"active\" subset $\\phi_1$ conditioned on the complimentary \"frozen\" subset $\\phi_2$. \n"
   ]
  },
  {
   "cell_type": "markdown",
   "id": "60ff6d93",
   "metadata": {
    "id": "60ff6d93"
   },
   "source": [
    "A coupling layer $g(\\phi_1, \\phi_2) = (\\phi_1', \\phi_2')$ based on an *affine transformation* (ak transform that is just a shift, scale or stratech  see [here](https://en.wikipedia.org/wiki/Affine_transformation)), looks like\n",
    "\n",
    "\\begin{equation}\n",
    "\\begin{split}\n",
    "  \\phi_1 '  &= e^{s(\\phi_2)} \\phi_1 + t(\\phi_2) \\\\\n",
    "  \\phi_2 '  &= \\phi_2\n",
    "\\end{split}\n",
    "\\end{equation}\n",
    "\n",
    "with inverse \n",
    "\n",
    "\\begin{equation}\\begin{aligned}\n",
    "  \\phi_1 &= e^{-s(\\phi_2')} \\left( \\phi_1' - t(\\phi_2') \\right)\n",
    "  \\\\\n",
    "  \\phi_2 &= \\phi_2'\n",
    "\\end{aligned}\\end{equation}\n",
    "\n",
    "**Note:** this equation is thinking of $\\phi_1$, $s$, $t$ as vectors over the active variables/sites, and $\\phi_2$ as a vector over the frozen variables/sites. The multiplication/addition is thus elementwise/per-site.\n",
    "\n",
    "The _parameters defining the transform_, $s(\\phi_2)$ and $t(\\phi_2)$, can be complicated, non-invertible functions of the frozen variables $\\phi_2$; **we'll use neural nets for these.**\n"
   ]
  },
  {
   "cell_type": "markdown",
   "id": "e2cf0f18",
   "metadata": {
    "id": "e2cf0f18"
   },
   "source": [
    "The partioning of variables ensures that the Jacobian is triangular,\n",
    "\n",
    "\\begin{equation}\n",
    "\\frac{\\partial g(\\phi_1, \\phi_2)}{\\partial (\\phi_1, \\phi_2)} =\n",
    "\\left( \\begin{matrix}\n",
    "    \\frac{\\partial \\phi_1'}{\\partial \\phi_1} & \\frac{\\partial \\phi_1'}{\\partial \\phi_2} \\\\\n",
    "    0 & 1\n",
    "\\end{matrix} \\right).\n",
    "\\end{equation}\n",
    "\n",
    "which makes for a simpler determinant that doesn't involve many combinations. \n",
    "\n",
    "For a transform that is just a shift, scale or stratech (aka [affine transformation](https://en.wikipedia.org/wiki/Affine_transformation)), this takes the form\n",
    "\n",
    "\\begin{equation}\n",
    "\\frac{\\partial g(\\phi_1, \\phi_2)}{\\partial (\\phi_1, \\phi_2)} =\n",
    "\\left( \\begin{array}{ccc|ccc}\n",
    "    e^{[s(\\phi_2)]_1} & & & \\cdot & \\cdot & \\cdot \\\\\n",
    "    & e^{[s(\\phi_2)]_2} & & \\cdot & \\cdot & \\cdot \\\\\n",
    "    & & \\ddots & \\cdot & \\cdot & \\cdot \\\\\n",
    "    \\hline\n",
    "    & & & 1 & & \\\\\n",
    "    & 0 & & & 1 & \\\\\n",
    "    & & & & & \\ddots\n",
    "\\end{array} \\right)\n",
    "\\end{equation}\n",
    "\n",
    "so that the Jacobian determinant factor is just right down the diagonals\n",
    "\n",
    "\\begin{equation}\n",
    "J(\\phi) = \\left|\\det_{kl} \\frac{\\partial [g(\\phi_1, \\phi_2)]_k}{\\partial (\\phi_1, \\phi_2)} \\right| = \\prod_{k} e^{[s(\\phi_2)]_k}\n",
    "\\end{equation}\n",
    "\n",
    "which is tractably computable."
   ]
  },
  {
   "cell_type": "markdown",
   "id": "b0177d71",
   "metadata": {
    "id": "b0177d71"
   },
   "source": [
    "In this example, we define the active ($\\phi_1$) and frozen ($\\phi_2$) subsets by assigning $\\phi_{i}$ to specific elements in a 2D square array and constructing checkerboard masks that assign one square to be either active or frozen. This approach is akin to the leap-frog symplectic integrators, but now in 2D. \n",
    "\n",
    "As a result, this allows sites to influence the transformation of their direct neighbors and build local correlations. To ensure all variables are updated, we compose coupling layers that alternatingly update odd sites and even sites, effectively a 2D leap-frog, just with a checkboards alternating active and frozen. \n",
    "\n",
    "\n",
    "[**Aside:** In all the code below, for the mask $m(\\vec{n}) \\in \\{0, 1\\}$, if $m(\\vec{n}) = 1$ then $\\phi(\\vec{n})$ is frozen and vice versa. This is just a convention.]"
   ]
  },
  {
   "cell_type": "code",
   "execution_count": null,
   "id": "3330f16b",
   "metadata": {
    "id": "3330f16b"
   },
   "outputs": [],
   "source": [
    "def make_checker_mask(shape, parity):\n",
    "    checker = torch.ones(shape, dtype=torch.uint8) - parity\n",
    "    checker[::2, ::2] = parity\n",
    "    checker[1::2, 1::2] = parity\n",
    "    return checker.to(torch_device)"
   ]
  },
  {
   "cell_type": "markdown",
   "id": "bc30a8d1",
   "metadata": {
    "id": "bc30a8d1"
   },
   "source": [
    "The code below defines an affine coupling layer. In the test below, we will ask you to compute the reverse transform using the formualae above for the inverse . \n",
    "\n",
    "\n",
    "[**Aside:** class field `net` is an instance of the CNN like the ones defined above. It has one input channel (the frozen sites of the scalar field, with zeros for the active sites), and two output channels (one for $s$, one for $t$). The net produces outputs $s$ and $t$ with nonzero elements for the frozen sites, which are simply ignored using masks.]"
   ]
  },
  {
   "cell_type": "code",
   "execution_count": null,
   "id": "d98aa088",
   "metadata": {
    "id": "d98aa088",
    "scrolled": true
   },
   "outputs": [],
   "source": [
    "class AffineCoupling(torch.nn.Module):\n",
    "    def __init__(self, net, *, mask_shape, mask_parity):\n",
    "        super().__init__()\n",
    "        self.mask = make_checker_mask(mask_shape, mask_parity)\n",
    "        self.net = net\n",
    "\n",
    "    def forward(self, x):\n",
    "        x_frozen = self.mask * x      \n",
    "        x_active = (1 - self.mask) * x\n",
    "        net_out = self.net(x_frozen.unsqueeze(1))\n",
    "        s, t = net_out[:,0], net_out[:,1]\n",
    "        fx = (1 - self.mask) * t + x_active * torch.exp(s) + x_frozen\n",
    "        axes = range(1,len(s.size()))\n",
    "        logJ = torch.sum((1 - self.mask) * s, dim=tuple(axes))\n",
    "        return fx, logJ\n",
    "\n",
    "    def reverse(self, fx):\n",
    "        # You will need to impelemnt this method as an exercise\n",
    "        #setup masks\n",
    "        #compute s,t of phi' frozen usin network\n",
    "        #now compute formula above note s is s(phi') and t is t(phi')\n",
    "        x =  #add code here\n",
    "        logJ = #add code here\n",
    "        #return x, logJ\n",
    "        raise NotImplementedError()"
   ]
  },
  {
   "cell_type": "markdown",
   "id": "14a91c75",
   "metadata": {
    "id": "14a91c75"
   },
   "source": [
    "#### **Exercise: Invertability test**\n",
    "\n",
    "Normalizing flows are defined using a flow transformation that must be a diffeomorphism, which means that it must be both invertible and differentiable. If this condition is not met, it can result in an ill-defined posterior density and break ergodicity. Hence, using such a flow to generate samples for computations of physical observables can lead to uncontrollable bias. Although we know from mathematics that the affine flow transformation must be invertible, it is still useful to verify this numerically, as errors in our code can occur.\n",
    "\n",
    "To ensure that flow transformation is diffeorophism we need to check that 1) flow transformation is invertable and 2) invertability of jacobian of forward and inverse transfromation. To do so we need:\n",
    "\n",
    "1) generate random fields\n",
    "$$z_0 ← \\text{random()}$$\n",
    "2) apply flow transformation, and compute jacobian\n",
    "$$x = f(z_0), \\quad \\text{logJ}=\\log |\\det \\frac{\\partial z_0}{\\partial x}|$$\n",
    "3) apply reverse tranfromation\n",
    "$$z_1 = f^{-1}(x), \\quad \\text{logJ1}= \\text{logJ}= \\log |\\det \\frac{\\partial x}{\\partial z_1}|$$\n",
    "4) and verify that \n",
    "$$z_1 == z_0, \\quad \\text{logJ} == -\\text{logJ1} $$\n",
    "\n",
    "In the previous cell, we introduced a coupling class for affine transformation. The `forward()` method of this class computes and returns the tuple `(f(z), logJ`). To ensure that the transformation is a diffeomorphism, you need to define the `reverse()` method for this class which should return `(f^{-1}(x), logJ1)`, and verify the diffeomorphism properties as outlined earlier."
   ]
  },
  {
   "cell_type": "code",
   "execution_count": null,
   "id": "0f100195",
   "metadata": {
    "colab": {
     "base_uri": "https://localhost:8080/",
     "height": 131
    },
    "id": "0f100195",
    "outputId": "a4838331-8a06-4e3a-c8a4-9a6bb680ce1b"
   },
   "outputs": [],
   "source": [
    "# EXERCISE\n",
    "L = 4\n",
    "\n",
    "# makes the coupling layer\n",
    "net = make_conv_net(in_channels=1, out_channels=2, hidden_sizes=[16], kernel_size=3)\n",
    "layer = AffineCoupling(net=net, mask_shape=(L,L), mask_parity=1).to(torch_device)\n",
    "\n",
    "# makes a toy field of the appropriate size/shape\n",
    "z0 = torch.arange(L**2).reshape(1,L,L).type(torch.FloatTensor).to(torch_device)\n",
    "\n",
    "x, logJ0 = # INSERT CODE HERE\n",
    "z1, logJ1 = # INSERT CODE HERE\n",
    "\n",
    "# TODO: compare using torch.allclose\n",
    "assert torch.allclose(z0, z1)\n",
    "assert torch.allclose(logJ0, -logJ1)"
   ]
  },
  {
   "cell_type": "markdown",
   "id": "xxg-p3toWMeN",
   "metadata": {
    "id": "xxg-p3toWMeN"
   },
   "source": [
    "#### **Exercise: logJ test**\n",
    "\n",
    "Having the correct value for `logJ` is crucial in practice, as incorrect values can result in wrong gradients that prevent successful training of the model. Therefore, it is a good practice to verify the `logJ` value that is implemented in the coupling class.\n",
    "\n",
    "In this exercise, you will need to implement a function to verify the `logJ` value and perform tests for the affine coupling class that was defined earlier. You can use the following hints to guide your implementation:\n",
    "\n",
    "1) To simplify the computations, it is recommended to perform them for a batch size of one.\n",
    "\n",
    "2) The `torch.autograd.grad(y_j, x)` function can be used to compute the gradients $\\frac{\\partial y_j}{\\partial x_i}$.\n",
    "\n",
    "3) To compute the whole Jacobian matrix `J`, you can repeat the computations for its columns `y_j`.\n",
    "\n",
    "4) The `linalg.slogdet(J)` function can be used to obtain the required logJ value."
   ]
  },
  {
   "cell_type": "code",
   "execution_count": null,
   "id": "DUbGnaKwNYNz",
   "metadata": {
    "colab": {
     "base_uri": "https://localhost:8080/"
    },
    "id": "DUbGnaKwNYNz",
    "outputId": "e140133f-c95d-4f48-b25a-e18ab3aa7240"
   },
   "outputs": [],
   "source": [
    "def check_logJ(z, coupling):\n",
    "    z.requires_grad = True #add this so you can use torch.autograd.grad(fx[i],z) later to get derivative\n",
    "    #compute logJ and fx\n",
    "    \n",
    "    #Loop over fx elements and run torch.autograd.grad(fx[i],z) and add to torch J\n",
    "\n",
    "    #Finally once you have computed J get log determinant like below\n",
    "    logJ1 = np.linalg.slogdet(J)[1]\n",
    "    \n",
    "    #Check it works\n",
    "    assert np.allclose(logJ, logJ1, atol=1e-5), \\\n",
    "        f'|logJ_model - logJ_torch| = {logJ - logJ1}'\n",
    "\n",
    "check_logJ(z0, layer)"
   ]
  },
  {
   "cell_type": "markdown",
   "id": "5a84a6ea",
   "metadata": {
    "id": "5a84a6ea"
   },
   "source": [
    "### **Composition**\n",
    "\n",
    "The helper function below just builds a sequence of coupling layers with alternating-parity checkerboards, providing a separate neural net for each with the same hyperparameters."
   ]
  },
  {
   "cell_type": "code",
   "execution_count": null,
   "id": "980d7fd8",
   "metadata": {
    "id": "980d7fd8"
   },
   "outputs": [],
   "source": [
    "def make_phi4_layers(*, n_layers, lattice_shape, hidden_sizes, kernel_size):\n",
    "    layers = []\n",
    "    for i in range(n_layers):\n",
    "        parity = i % 2\n",
    "        net = make_conv_net(\n",
    "            in_channels=1, out_channels=2, hidden_sizes=hidden_sizes,\n",
    "            kernel_size=kernel_size)\n",
    "        coupling = AffineCoupling(net, mask_shape=lattice_shape, mask_parity=parity)\n",
    "        layers.append(coupling)\n",
    "    return torch.nn.ModuleList(layers)"
   ]
  },
  {
   "cell_type": "markdown",
   "id": "0c481729",
   "metadata": {
    "id": "0c481729"
   },
   "source": [
    "The Jacobian factors $J_i$ from each coupling layer simply multiply together to define the Jacobian factor of the composed function, so that the final density is\n",
    "\\begin{equation}\n",
    "\\begin{split}\n",
    "    q(x) &= r(z) \\left| \\det \\frac{\\partial f(z)}{\\partial z} \\right|^{-1} = r(z) \\prod_{i} J_i^{-1}.\n",
    "\\end{split}\n",
    "\\end{equation}\n",
    "In practice, we'll add together log Jacobians instead."
   ]
  },
  {
   "cell_type": "code",
   "execution_count": null,
   "id": "662cabc5",
   "metadata": {
    "id": "662cabc5"
   },
   "outputs": [],
   "source": [
    "def apply_flow_to_prior(prior, coupling_layers, *, batch_size):\n",
    "    x = prior.sample_n(batch_size)\n",
    "    logq = prior.log_prob(x)\n",
    "    for layer in coupling_layers:\n",
    "        x, logJ = layer.forward(x)\n",
    "        logq = logq - logJ\n",
    "    return x, logq"
   ]
  },
  {
   "cell_type": "markdown",
   "id": "14d524c8",
   "metadata": {
    "id": "14d524c8"
   },
   "source": [
    "### Model\n",
    "\n",
    "We now have everything we need to make a flow model. The cell below instantiates one."
   ]
  },
  {
   "cell_type": "code",
   "execution_count": null,
   "id": "fdb01431",
   "metadata": {
    "id": "fdb01431"
   },
   "outputs": [],
   "source": [
    "L = 16\n",
    "lattice_shape = (L,L)\n",
    "prior = SimpleNormal(torch.zeros(lattice_shape), torch.ones(lattice_shape))\n",
    "\n",
    "n_layers = 16\n",
    "hidden_sizes = [8,8]\n",
    "kernel_size = 3\n",
    "layers = make_phi4_layers(\n",
    "    lattice_shape=lattice_shape, n_layers=n_layers, \n",
    "    hidden_sizes=hidden_sizes, kernel_size=kernel_size)\n",
    "\n",
    "model = {'layers': layers, 'prior': prior}"
   ]
  },
  {
   "cell_type": "markdown",
   "id": "44e0ddce",
   "metadata": {
    "id": "44e0ddce"
   },
   "source": [
    "Draw 16 configurations from the untrained flow model. What do they look like?"
   ]
  },
  {
   "cell_type": "code",
   "execution_count": null,
   "id": "16a44e37",
   "metadata": {
    "colab": {
     "base_uri": "https://localhost:8080/",
     "height": 448
    },
    "id": "16a44e37",
    "outputId": "b8624187-430f-4986-966e-11f118475942"
   },
   "outputs": [],
   "source": [
    "x, logq = apply_flow_to_prior(model['prior'], model['layers'], batch_size=16)\n",
    "\n",
    "fig,axes = plt.subplots(4,4, figsize=(5,5), sharex=True, sharey=True)\n",
    "for ax, x0 in zip(axes.ravel(),x):\n",
    "    ax.imshow(grab(x0).squeeze().T, aspect='equal')\n",
    "    ax.grid(False)\n",
    "    "
   ]
  },
  {
   "cell_type": "markdown",
   "id": "87528bc4",
   "metadata": {
    "id": "87528bc4"
   },
   "source": [
    "Now an important question to consider is what is the appropriate function $f$ in the normalizing flow that we sample that gets us to the right answer. \n",
    "\n",
    "Determining whether a model is a good fit for the target action is a challenging question to answer in general. However, one metric that can be used to assess model performance is the effective sample size (ESS) per configuration. In the following, we will be writing ESS but have in mind ESS per configuration.\n",
    "\n",
    "ESS is defined on the interval $[0,1]$, and can be thought of as an effective percentage of configurations from the dataset generated from the target distribution that would yield the same statistics. For example, if a model generates 100 configurations with an ESS of 0.7, computing observables on these data would yield the same uncertainties as if you computed observables only on 70 configurations generated from the target distribution."
   ]
  },
  {
   "cell_type": "code",
   "execution_count": null,
   "id": "1bc2bdfb",
   "metadata": {
    "id": "1bc2bdfb"
   },
   "outputs": [],
   "source": [
    "def compute_ess(logp, logq):\n",
    "    logw = logp - logq\n",
    "    log_ess = 2*torch.logsumexp(logw, dim=0) - torch.logsumexp(2*logw, dim=0)\n",
    "    ess_per_cfg = torch.exp(log_ess) / len(logw)\n",
    "    return ess_per_cfg"
   ]
  },
  {
   "cell_type": "markdown",
   "id": "cf864970",
   "metadata": {
    "id": "cf864970"
   },
   "source": [
    "### **Train the model**\n",
    "\n",
    "For convenience, the cell below instantiates the model and everything we need to train it. We'll work with very small lattices with $L=4$ so training goes quickly."
   ]
  },
  {
   "cell_type": "code",
   "execution_count": null,
   "id": "f97b9508",
   "metadata": {
    "id": "f97b9508"
   },
   "outputs": [],
   "source": [
    "# Lattice Theory\n",
    "torch_device = 'cuda'\n",
    "L = 4\n",
    "lattice_shape = (L,L)\n",
    "M2 = -4.0\n",
    "lam = 8.0\n",
    "\n",
    "phi4_action = ScalarPhi4Action(M2=M2, lam=lam)\n",
    "\n",
    "# Model\n",
    "prior = SimpleNormal(torch.zeros(lattice_shape, device=torch_device), torch.ones(lattice_shape, device=torch_device))\n",
    "\n",
    "n_layers = 16\n",
    "hidden_sizes = [8,8]\n",
    "kernel_size = 3\n",
    "layers = make_phi4_layers(\n",
    "    lattice_shape=lattice_shape,\n",
    "    n_layers=n_layers, \n",
    "    hidden_sizes=hidden_sizes,\n",
    "    kernel_size=kernel_size\n",
    "    ).to(torch_device)\n",
    "model = {'layers': layers, 'prior': prior}\n",
    "\n",
    "# Training\n",
    "base_lr = 0.001\n",
    "optimizer = torch.optim.Adam(model['layers'].parameters(), lr=base_lr)"
   ]
  },
  {
   "cell_type": "markdown",
   "id": "5dd92b11",
   "metadata": {
    "id": "5dd92b11"
   },
   "source": [
    "We need to optimize the coupling layers to match the model distribution $q(\\phi)$ to the target one $p(\\phi)$. To do this, we minimize a quantity known as the Kullback-Leibler (KL) divergence, which measures the distance between two distributions. Training data drawn from $p$ can be scarce in simulations of lattice field theories, so we make use of the \"reverse\" KL divergence,\n",
    "estimated using $N$ samples drawn from the model distribution ($\\phi_i \\sim q$) as\n",
    "\\begin{equation}\n",
    "\\widehat{D}_{KL}(q || p) = \\frac{1}{N} \\sum_{i=1}^N \\left[ \\log{q}(\\phi_i) - \\log{p}(\\phi_i) \\right] \\quad \\left( \\phi_i \\sim q \\right).\n",
    "\\end{equation}"
   ]
  },
  {
   "cell_type": "markdown",
   "id": "6efea31e",
   "metadata": {
    "id": "6efea31e"
   },
   "source": [
    "We use a \"reverse KL self-training\" protocol that consists of\n",
    "  1. Drawing samples $\\phi_i$ and density estimates $\\log q(\\phi_i)$ from the model\n",
    "  2. Computing $\\log p(\\phi_i) \\propto -S(\\phi_i)$ on each sample\n",
    "  3. Using $\\log q$ and $\\log p$ to compute the reverse KL divergence over the samples\n",
    "  3. Using standard stochastic gradient descent methods (i.e. Adam) to iteratively update neural network weights\n",
    "  \n",
    "  \n",
    "#### **Exercise: Training Normalizing flow model**\n",
    "In this exercise, you will need to implement a training function by following the algorithm outlined above. During training, we collect statistics to monitor how the training is progressing. Our built-in function will use these statistics to plot a training figure."
   ]
  },
  {
   "cell_type": "code",
   "execution_count": null,
   "id": "90c84df7",
   "metadata": {
    "id": "90c84df7"
   },
   "outputs": [],
   "source": [
    "def train_step(model, action, optimizer, metrics):\n",
    "    layers, prior = model['layers'], model['prior']\n",
    "\n",
    "    # code training\n",
    "    \n",
    "    # you will also need to add these metrics\n",
    "    metrics['loss'].append(...)\n",
    "    metrics['logp'].append(...)\n",
    "    metrics['logq'].append(...)\n",
    "    metrics['ess'].append(...)"
   ]
  },
  {
   "cell_type": "markdown",
   "id": "2612e785",
   "metadata": {
    "id": "2612e785"
   },
   "source": [
    "Finally, let's choose hyperparameters"
   ]
  },
  {
   "cell_type": "code",
   "execution_count": null,
   "id": "37976456",
   "metadata": {
    "id": "37976456"
   },
   "outputs": [],
   "source": [
    "N_era = 1\n",
    "N_epoch = 200\n",
    "batch_size = 1024 * 8\n",
    "print_freq = 10\n",
    "plot_freq = 1\n",
    "\n",
    "history = {\n",
    "    'loss' : [],\n",
    "    'logp' : [],\n",
    "    'logq' : [],\n",
    "    'ess' : [],\n",
    "    'dkl' : []\n",
    "}"
   ]
  },
  {
   "cell_type": "markdown",
   "id": "4627a06b",
   "metadata": {
    "id": "4627a06b"
   },
   "source": [
    "and run training"
   ]
  },
  {
   "cell_type": "code",
   "execution_count": null,
   "id": "59d07ab8",
   "metadata": {
    "colab": {
     "base_uri": "https://localhost:8080/",
     "height": 1000
    },
    "id": "59d07ab8",
    "outputId": "4c3c317b-f6b9-4e1c-945e-93c543d6944d"
   },
   "outputs": [],
   "source": [
    "\n",
    "[plt.close(plt.figure(fignum)) for fignum in plt.get_fignums()] # close all existing figures\n",
    "live_plot = init_live_plot()\n",
    "\n",
    "for era in range(N_era):\n",
    "    for epoch in range(N_epoch):\n",
    "        train_step(model, phi4_action, optimizer, history)\n",
    "\n",
    "        if epoch % print_freq == 0:\n",
    "            print_metrics(history, avg_last_N_epochs=print_freq)\n",
    "\n",
    "        if epoch % plot_freq == 0:\n",
    "            update_plots(history, **live_plot)"
   ]
  },
  {
   "cell_type": "markdown",
   "id": "5c5a2112",
   "metadata": {
    "id": "5c5a2112"
   },
   "source": [
    "The cell below draws a batch of configurations from the sample, computes $S(\\phi)$ and $S_{\\text{eff}} \\equiv - \\log q(\\phi)$ on each one, then makes a 2d histogram comparing these quantities.\n",
    "\n",
    "**Discuss:** What would this look like for a perfect model? How does your model compare?"
   ]
  },
  {
   "cell_type": "code",
   "execution_count": null,
   "id": "2b529ecb",
   "metadata": {
    "colab": {
     "base_uri": "https://localhost:8080/",
     "height": 510
    },
    "id": "2b529ecb",
    "outputId": "7535a1bd-5d78-4243-cdd7-c97b31503f18"
   },
   "outputs": [],
   "source": [
    "with torch.no_grad():\n",
    "  phi, logq = apply_flow_to_prior(model['prior'], model['layers'], batch_size=1024)\n",
    "S_eff = -grab(logq)\n",
    "S = grab(phi4_action(phi))\n",
    "fit_b = np.mean(S) - np.mean(S_eff)\n",
    "print(f'slope 1 linear regression S = S_eff + {fit_b:.4f}')\n",
    "fig, ax = plt.subplots(1,1, dpi=125, figsize=(4,4))\n",
    "ax.hist2d(S_eff, S, bins=40, range=[[-5, 10], [-5, 10]])\n",
    "ax.set_xlabel(r'$S_{\\mathrm{eff}} = -\\log~q(x)$')\n",
    "ax.set_ylabel(r'$S(x)$')\n",
    "ax.set_aspect('equal')\n",
    "xs = np.linspace(-5, 10, num=4, endpoint=True)\n",
    "ax.plot(xs, xs + fit_b, ':', color='w', label='slope 1 fit')\n",
    "plt.legend(prop={'size': 6})\n",
    "plt.show()"
   ]
  },
  {
   "cell_type": "markdown",
   "id": "go7pYuwD46Ex",
   "metadata": {
    "id": "go7pYuwD46Ex"
   },
   "source": [
    "## Metropolis-Hastings algorithm\n"
   ]
  },
  {
   "cell_type": "markdown",
   "id": "63cbea1f",
   "metadata": {
    "id": "63cbea1f"
   },
   "source": [
    "The Metropolis-Hastings algorithm is a Markov chain Monte Carlo (MCMC) method that generates samples for probability distributions when direct sampling is difficult or impossible. The algorithm constructs a sequence of configurations starting from an arbitrary configuration, with the sequence eventually following the target distribution. The algorithm can be summarized as follows:\n",
    "\n",
    "1) Generate a new candidate configuration $\\phi'$ from the previous configuration $\\phi^{i-1}$ with a proposal probability $T(\\phi^{i-1}\\rightarrow \\phi')$.\n",
    "\n",
    "2) Accept the candidate configuration $\\phi'$ as the new configuration $\\phi^i$ with an acceptance probability:\n",
    "\\begin{equation}\n",
    "p_{\\mathrm{accept}}(\\phi'|\\phi^{i-1}) = \\min \\left(\n",
    "1,\n",
    "\\frac{T(\\phi' \\rightarrow \\phi^{i-1})}{T(\\phi^{i-1} \\rightarrow \\phi')}\n",
    "\\frac{p(\\phi')}{p(\\phi^{i-1})}\n",
    "\\right),\n",
    "\\end{equation}\n",
    "where $p(\\phi)$ is the target probability density. If the suggested configuration is not accepted, the unchanged configuration is considered again in the sequence as $\\phi^i = \\phi^{i-1}$.\n",
    "\n",
    "3) Repeat the steps to generate full ensemble.\n",
    "\n",
    "It can be shown that samples generated with this algorithm are distributed according to the targeted probability density if $T(\\phi^{i-1} \\rightarrow \\phi')$ is ergodic, meaning that there is a non-zero probability to generate all possible configurations $\\phi'$."
   ]
  },
  {
   "cell_type": "markdown",
   "id": "0NVNXPLt8I8Z",
   "metadata": {
    "id": "0NVNXPLt8I8Z"
   },
   "source": [
    "### Metropolis algorithm for normalizing flow\n",
    "To obtain **unbiased** estimates of observables, we can use the samples generated by our model as proposals in the Metropolis-Hastings (MH) algorithm. Using normalizing flows, we can assign a probability density $q(\\phi)$ to each sample $\\phi$, and this density can be used as the proposal probability in the MH algorithm. In this case, the acceptance probability takes the form:\n",
    "\n",
    "\\begin{equation}\n",
    "p_{\\mathrm{accept}}(\\phi'|\\phi^{i-1}) = \\min \\left(\n",
    "1,\n",
    "\\frac{q(\\phi^{i-1})}{q(\\phi')}\n",
    "\\frac{p(\\phi')}{p(\\phi^{i-1})}\n",
    "\\right).\n",
    "\\end{equation}\n"
   ]
  },
  {
   "cell_type": "markdown",
   "id": "_5T630PDEz8n",
   "metadata": {
    "id": "_5T630PDEz8n"
   },
   "source": [
    "To simplify the process, we create a function that generates and draws batches of samples from a flow model and then returns them one at a time, along with their respective $\\log p$ and $\\log q$ values. We can use each sample as a proposal in the MH algorithm."
   ]
  },
  {
   "cell_type": "code",
   "execution_count": null,
   "id": "4c486dbe",
   "metadata": {
    "id": "4c486dbe"
   },
   "outputs": [],
   "source": [
    "def serial_sample_generator(model, action, batch_size, N_samples):\n",
    "    layers, prior = model['layers'], model['prior']\n",
    "    layers.eval()\n",
    "    x, logq, logp = None, None, None\n",
    "    with torch.no_grad():\n",
    "      for i in range(N_samples):\n",
    "          batch_i = i % batch_size\n",
    "          if batch_i == 0:\n",
    "              # we're out of samples to propose, generate a new batch\n",
    "              x, logq = apply_flow_to_prior(prior, layers, batch_size=batch_size)\n",
    "              logp = -action(x)\n",
    "          yield x[batch_i], logq[batch_i], logp[batch_i]"
   ]
  },
  {
   "cell_type": "markdown",
   "id": "PaDUpqN4FJ_V",
   "metadata": {
    "id": "PaDUpqN4FJ_V"
   },
   "source": [
    "If you are not familiar with Python generators, this function creates an object that you can iterate over, for example."
   ]
  },
  {
   "cell_type": "code",
   "execution_count": null,
   "id": "WFliN0UuFYiG",
   "metadata": {
    "colab": {
     "base_uri": "https://localhost:8080/"
    },
    "id": "WFliN0UuFYiG",
    "outputId": "905c9d67-f516-4839-f8f2-316fd06e181c"
   },
   "outputs": [],
   "source": [
    "l = [phi.mean() for phi, _, _ in serial_sample_generator(model, phi4_action, 4, 6)]#vary the 6=> something what happens\n",
    "print(\"Field values:\", l)"
   ]
  },
  {
   "cell_type": "markdown",
   "id": "c83efa8f",
   "metadata": {
    "id": "c83efa8f"
   },
   "source": [
    "#### **Exercise: MH for NF samples** \n",
    "In this exercise, your goal is to create an MCMC ensemble using independent flow proposals and the acceptance probability formula we defined earlier. It's recommended to keep track of the history of some metrics, compute them, and add them to a dictionary."
   ]
  },
  {
   "cell_type": "code",
   "execution_count": null,
   "id": "d8c1961f",
   "metadata": {
    "id": "d8c1961f"
   },
   "outputs": [],
   "source": [
    "def make_mcmc_ensemble(model, action, batch_size, N_samples):\n",
    "    # fill this history dict with values in MCMC ensemble\n",
    "    history = {\n",
    "        'x' : [],  # save configurations here\n",
    "        'logq' : [],\n",
    "        'logp' : [],\n",
    "        'accepted' : []\n",
    "    }\n",
    "\n",
    "    return history"
   ]
  },
  {
   "cell_type": "markdown",
   "id": "a22f2003",
   "metadata": {
    "id": "a22f2003"
   },
   "source": [
    "The Independence Metropolis acceptance rate is another metric to evaluate the quality of our model, similar to the ESS."
   ]
  },
  {
   "cell_type": "code",
   "execution_count": null,
   "id": "d96f15c9",
   "metadata": {
    "colab": {
     "base_uri": "https://localhost:8080/"
    },
    "id": "d96f15c9",
    "outputId": "8a081162-e08a-4a05-fa57-748ae4f7297c"
   },
   "outputs": [],
   "source": [
    "ensemble_size = 32*1024\n",
    "phi4_ens = make_mcmc_ensemble(model, phi4_action, 1024, ensemble_size)\n",
    "print(\"Accept rate:\", np.mean(phi4_ens['accepted']))"
   ]
  },
  {
   "cell_type": "markdown",
   "id": "7fdce9a6",
   "metadata": {
    "id": "7fdce9a6"
   },
   "source": [
    "The NF model generates samples with a probability density `q(x)` that only approximates the target density `p(x)` to some degree. By applying the MH algorithm, we obtain samples that are distributed exactly according to the target density. The quality of the model's approximation can be evaluated using metrics such as ESS or acceptance rate, which we previously calculated.\n",
    "\n",
    "Next, let's visualize the bias in \"raw\" sample or approximation error by plotting the distribution of the action of the theory. Note that bias in different observables could be different."
   ]
  },
  {
   "cell_type": "code",
   "execution_count": null,
   "id": "aae3b199",
   "metadata": {
    "colab": {
     "base_uri": "https://localhost:8080/",
     "height": 430
    },
    "id": "aae3b199",
    "outputId": "bfa87c21-9974-4d25-9bf3-49e144706b02"
   },
   "outputs": [],
   "source": [
    "with torch.no_grad():\n",
    "  phi, _ = apply_flow_to_prior(model['prior'], model['layers'], batch_size=ensemble_size)\n",
    "phi_unbiased = torch.stack(phi4_ens['x'])\n",
    "\n",
    "S, S_unbiased = map(lambda x: phi4_action(x).cpu(), [phi, phi_unbiased])\n",
    "plt.hist(torch.stack([S, S_unbiased]), label=['model action', 'MCMC corrected action'], bins=100, density=1, histtype='step');\n",
    "plt.legend();"
   ]
  },
  {
   "cell_type": "markdown",
   "id": "NtMiwvM6fZnv",
   "metadata": {
    "id": "NtMiwvM6fZnv"
   },
   "source": [
    "### **Exercise (optional): training better model and examining approximation error**\n",
    "\n",
    "The results obtained may vary depending on the quality of the model used. We encourage you to experiment with various hyperparameters, such as the CNN configuration, Adam parameters, and increasing the training duration to obtain better results. It is interesting to observe how the model samples approach the true samples as the model quality improves."
   ]
  },
  {
   "cell_type": "markdown",
   "id": "gG4CGQ2eI-1-",
   "metadata": {
    "id": "gG4CGQ2eI-1-"
   },
   "source": [
    "## Thermodynamics with Normalizing Flows (Not Optional) \n",
    "### Really, this is  The Ising on the cake! "
   ]
  },
  {
   "cell_type": "markdown",
   "id": "K5uSxFwtJ9dv",
   "metadata": {
    "id": "K5uSxFwtJ9dv"
   },
   "source": [
    "The thermodynamics of QCD has important implications for high-energy heavy-ion collision experiments, such as those performed at the Relativistic Heavy Ion Collider (RHIC) and the Large Hadron Collider (LHC). These experiments aim to recreate the conditions present in the early universe just after the Big Bang, and the study of QCD thermodynamics is essential for understanding the behavior of matter under these extreme conditions.\n",
    "\n",
    "The thermodynamic properties of a system can be determined from the partition function\n",
    "$$\n",
    "Z(T,V) = \\int \\prod_{\\vec{n}} d\\phi(\\vec{n}) ~ e^{-\\frac{S(\\phi)}{T}},\n",
    "$$\n",
    "where $V$ denotes the physical volume of the system and $T$ is temperature. In lattice QCD, one uses the MCMC method to generate configurations ${\\phi}$ with probabilities proportional to $e^{-\\frac{S(\\phi)}{T}}$ and evaluate observables on these configurations. However, this method does not provide direct access to the normalizer of the probability density, $Z(T,V)$, making a study of thermodynamics a challenging problem.\n",
    "\n",
    "Computation of patition function $Z(T,V)$ involves some approximations and tricks. Typically, these tricks rely on the fact that the ratio of partition functions  $Z(T,V)/Z(T_0,V)$ at different physical parameters $T$ and $T_0$ can be computed using samples without requiring constant normalizers. This ratio is then used to compute the partition function at the desired parameters. For instance, a possible approach would be to start from a known analytical value $Z (T_ 0, V)$. Next, one would execute MCMC simulations to compute $\\frac{ Z(T,V)}{Z(T_ 0,V)}$. By combining these two results, one can obtain an interesting quantity $Z(T,V)=\\frac{ Z(T,V)}{Z(T_ 0,V)} Z (T_ 0, C)$.\n",
    "\n",
    "In practical simulations, the computation of the ratio of partition functions can be challenging due to the requirement of a good overlap of the probability densities corresponding to both partition functions in the ratio. The degree of overlap significantly decreases with changes in physical parameters, which means that the ratio can only be computed for closely related values. As a result, the interval of interest, say $[T, T_0]$, is split into a few small intervals where the overlap is good enough, and MCMC simulations are carried out for every value. This approach is computationally demanding, making the study of QCD thermodynamics a challenging problem.\n",
    "\n",
    "Normalizing Flows provide an alternative approach. Comparing with conventional MCMC they not only generate samples $\\phi$, but also provide the corresponding probability density. One can compute the partition function using the probability density provided by Normalizing Flows in a way similar to computing other observables.  This advantage allows the generation of **only one ensemble** of configurations and directly evaluates the partition function on it.  The new approach reduces the computational demand significantly and allows one to perform computations when the partition function is unknown for some base parameters.\n",
    "\n",
    "\n",
    "In practical simulations, it is more common to calculate the Free Energy, which can be expressed as:\n",
    "$$\n",
    "F = - T \\, \\log Z,\n",
    "$$\n",
    "with $T$ being the absolute temperature. In lattice QCD with periodic boundary conditions tempreture can be expresses as $T = \\frac{1}{L_t \\, a}$.\n"
   ]
  },
  {
   "cell_type": "markdown",
   "id": "GpyIbYd9Pi26",
   "metadata": {
    "id": "GpyIbYd9Pi26"
   },
   "source": [
    "### **Exercise**: Estimator of logZ\n",
    "\n",
    "In this exercise, you will need to write an estimator for Partition function $Z$ using samples generated with probability density $q(\\phi)$.\n",
    "\n",
    "**Hint:** Start with definition of Parition function $Z$ and reweight integrand with density $q(\\phi)$. After that you can use MC formula (aka average over all of $\\phi$) to estimate the integral.\n",
    "\n",
    "or more explicitly Recall : \n",
    "\n",
    "\\begin{equation}\n",
    "p(\\phi) = \\frac{1}{Z} e^{-S(\\phi)}, \\quad\n",
    "Z \\equiv \\int \\prod_{\\vec{n}} d\\phi(\\vec{n}) ~ e^{-S(\\phi)},\n",
    "\\end{equation}\n",
    "\n",
    "and that $q(\\phi)$ approximates $p$, then by averaging over all $\\phi_{i}$ we get an esimate for $Z$ \n"
   ]
  },
  {
   "cell_type": "markdown",
   "id": "WuelFlabNLvj",
   "metadata": {
    "id": "WuelFlabNLvj"
   },
   "source": [
    "### Exercise - mini-project: Free energy computation with NF\n",
    "\n",
    "For this mini-project, your task is to train a Normalizing Flow model and compute the free energy of scalar field theory for a specific set of physical parameters (mass and coupling). You will be able to compare your results with the values obtained in arXiv:2007.07115, which will enable you to verify your work. This project closely resembles a real scientific problem, essentially, you would just need to apply all skill you learned to action of interest. \n",
    "\n",
    "You will need:\n",
    "\n",
    "1) Map action used in arXiv:2007.07115 to the action we used in this tutorial. Hopefully, you have already accomplished it in one of the previous exercises. We propose you to use physical parameters $\\kappa=0.3$, $\\lambda=0.022$ and lattice $L_t = 8$, $L_x=16$ as the smallest lattice from arXiv:2007.07115. **Hint:** when rescale ation do not forget to resacat $Z$ in a final formula.\n",
    "\n",
    "2) Define a more expressive NF model and train it. It may require training it longer or even changing optimizer and/or optimizer hyperparameters.\n",
    "\n",
    "3) Generate an ensemble of configurations using the MH algorithm as we did in previous sections.\n",
    "\n",
    "4) Compute $Z$ using an estimator defined in a previous exercise. Compute free energy normalized by volume\n",
    "$$\n",
    "\\frac{F}{V} a^2= \\frac{1}{L_tL_x} \\log \\, Z\n",
    "$$\n",
    "\n",
    "**Hint:** Use `logsumexp` for numerical stability.\n",
    "\n",
    "5) Estimate errors (This is Optional). Provide answers for free energy with uncertainties and compare your results with arXiv:2007.07115 Fig.2. **Hint:** Ensembles generated with MCMC often have large autocorrelations, which can result in underestimated uncertainties. Therefore, to estimate errors reliably, you can use various algorithms like  [binning](https://en.wikipedia.org/wiki/Data_binning#:~:text=Statistical%20data%20binning%20is%20a,grouping%20every%20five%20years%20together). For computing the uncertainty of a function of a random quantity, we suggest using the [bootstrap algorith](https://docs.scipy.org/doc/scipy/reference/generated/scipy.stats.bootstrap.html), or in otherword just taking mean and standard deviation by repeating the calculation removing some elements.  \n",
    "\n"
   ]
  },
  {
   "cell_type": "code",
   "execution_count": null,
   "id": "YiphsmfYb1Y2",
   "metadata": {
    "id": "YiphsmfYb1Y2"
   },
   "outputs": [],
   "source": []
  }
 ],
 "metadata": {
  "accelerator": "GPU",
  "colab": {
   "collapsed_sections": [
    "901a0423"
   ],
   "provenance": [],
   "toc_visible": true
  },
  "gpuClass": "standard",
  "kernelspec": {
   "display_name": "Python 3 (ipykernel)",
   "language": "python",
   "name": "python3"
  },
  "language_info": {
   "codemirror_mode": {
    "name": "ipython",
    "version": 3
   },
   "file_extension": ".py",
   "mimetype": "text/x-python",
   "name": "python",
   "nbconvert_exporter": "python",
   "pygments_lexer": "ipython3",
   "version": "3.10.8"
  }
 },
 "nbformat": 4,
 "nbformat_minor": 5
}
